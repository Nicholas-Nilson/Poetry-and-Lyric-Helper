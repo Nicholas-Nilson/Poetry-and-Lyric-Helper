{
 "cells": [
  {
   "cell_type": "markdown",
   "id": "7896a9df",
   "metadata": {},
   "source": [
    "# Get connection to the local sqlite database to prep for creating dataframe.\n"
   ]
  },
  {
   "cell_type": "code",
   "execution_count": 4,
   "id": "8cf2c88b",
   "metadata": {},
   "outputs": [
    {
     "name": "stdout",
     "output_type": "stream",
     "text": [
      "(0, \"'ALLO\", 'AA L OW', 2, 'sp')\n",
      "(1, \"'BOUT\", 'B AW T', 1, 'p')\n",
      "(2, \"'CAUSE\", 'K AH Z', 1, 'u')\n",
      "(3, \"'COURSE\", 'K AO R S', 1, 'p')\n",
      "(4, \"'CUSE\", 'K Y UW Z', 1, 'p')\n"
     ]
    }
   ],
   "source": [
    "import sqlite3, os\n",
    "\n",
    "con = sqlite3.connect(\"./Helper/data/wordsdb.db\")\n",
    "cur = con.cursor()\n",
    "for row in cur.execute('SELECT * FROM words limit 5'):\n",
    "    print(row)"
   ]
  },
  {
   "cell_type": "markdown",
   "id": "4fb5195b",
   "metadata": {},
   "source": [
    "# Now to create the DataFrame object for us in analysis"
   ]
  },
  {
   "cell_type": "code",
   "execution_count": 5,
   "id": "4263e3cd",
   "metadata": {},
   "outputs": [
    {
     "data": {
      "text/html": [
       "<div>\n",
       "<style scoped>\n",
       "    .dataframe tbody tr th:only-of-type {\n",
       "        vertical-align: middle;\n",
       "    }\n",
       "\n",
       "    .dataframe tbody tr th {\n",
       "        vertical-align: top;\n",
       "    }\n",
       "\n",
       "    .dataframe thead th {\n",
       "        text-align: right;\n",
       "    }\n",
       "</style>\n",
       "<table border=\"1\" class=\"dataframe\">\n",
       "  <thead>\n",
       "    <tr style=\"text-align: right;\">\n",
       "      <th></th>\n",
       "      <th>index</th>\n",
       "      <th>WORD</th>\n",
       "      <th>PRONUNCIATION</th>\n",
       "      <th>SYLLABLES</th>\n",
       "      <th>SCANSION</th>\n",
       "    </tr>\n",
       "  </thead>\n",
       "  <tbody>\n",
       "    <tr>\n",
       "      <th>0</th>\n",
       "      <td>0</td>\n",
       "      <td>'ALLO</td>\n",
       "      <td>AA L OW</td>\n",
       "      <td>2</td>\n",
       "      <td>sp</td>\n",
       "    </tr>\n",
       "    <tr>\n",
       "      <th>1</th>\n",
       "      <td>1</td>\n",
       "      <td>'BOUT</td>\n",
       "      <td>B AW T</td>\n",
       "      <td>1</td>\n",
       "      <td>p</td>\n",
       "    </tr>\n",
       "    <tr>\n",
       "      <th>2</th>\n",
       "      <td>2</td>\n",
       "      <td>'CAUSE</td>\n",
       "      <td>K AH Z</td>\n",
       "      <td>1</td>\n",
       "      <td>u</td>\n",
       "    </tr>\n",
       "    <tr>\n",
       "      <th>3</th>\n",
       "      <td>3</td>\n",
       "      <td>'COURSE</td>\n",
       "      <td>K AO R S</td>\n",
       "      <td>1</td>\n",
       "      <td>p</td>\n",
       "    </tr>\n",
       "    <tr>\n",
       "      <th>4</th>\n",
       "      <td>4</td>\n",
       "      <td>'CUSE</td>\n",
       "      <td>K Y UW Z</td>\n",
       "      <td>1</td>\n",
       "      <td>p</td>\n",
       "    </tr>\n",
       "  </tbody>\n",
       "</table>\n",
       "</div>"
      ],
      "text/plain": [
       "   index     WORD PRONUNCIATION  SYLLABLES SCANSION\n",
       "0      0    'ALLO       AA L OW          2       sp\n",
       "1      1    'BOUT        B AW T          1        p\n",
       "2      2   'CAUSE        K AH Z          1        u\n",
       "3      3  'COURSE      K AO R S          1        p\n",
       "4      4    'CUSE      K Y UW Z          1        p"
      ]
     },
     "execution_count": 5,
     "metadata": {},
     "output_type": "execute_result"
    }
   ],
   "source": [
    "import pandas as pd\n",
    "\n",
    "df = pd.read_sql_query(\"SELECT * FROM words\", con)\n",
    "df.head()"
   ]
  },
  {
   "cell_type": "code",
   "execution_count": 6,
   "id": "2eafe73b",
   "metadata": {},
   "outputs": [
    {
     "data": {
      "text/plain": [
       "index            134316\n",
       "WORD             134316\n",
       "PRONUNCIATION    134316\n",
       "SYLLABLES        134316\n",
       "SCANSION         134316\n",
       "dtype: int64"
      ]
     },
     "execution_count": 6,
     "metadata": {},
     "output_type": "execute_result"
    }
   ],
   "source": [
    "df.count()"
   ]
  },
  {
   "cell_type": "markdown",
   "id": "9bebaa23",
   "metadata": {},
   "source": [
    "## Avenues for analysis:\n",
    "- Count of words \n",
    "    - total \n",
    "    - per starting letter \n",
    "    - per syllable count\n",
    "    - per rhyme\n",
    "    - per scansion foot pattern).\n",
    "- Most common rhymes: for each number of syllables match.. i.e. last syllable, last 2 syllables etc..\n",
    "- Occurence of stress patterns (by common feet used in poetry)"
   ]
  },
  {
   "cell_type": "code",
   "execution_count": 7,
   "id": "b9cea326",
   "metadata": {},
   "outputs": [
    {
     "data": {
      "text/plain": [
       "index            134316\n",
       "WORD             134316\n",
       "PRONUNCIATION    114157\n",
       "SYLLABLES            11\n",
       "SCANSION            287\n",
       "dtype: int64"
      ]
     },
     "execution_count": 7,
     "metadata": {},
     "output_type": "execute_result"
    }
   ],
   "source": [
    "df.nunique()"
   ]
  },
  {
   "cell_type": "markdown",
   "id": "07e5bdd0",
   "metadata": {},
   "source": [
    "We can see there are 134316 distinct entries in the database.\n",
    "\n",
    "It appears we have just under 20,000 words with matching definitions. Finding which pronunciation(s) is most common would be interesting to see.\n",
    "\n",
    "There are 11 different syllable counts, what words(s) has the highest syllable count?"
   ]
  },
  {
   "cell_type": "code",
   "execution_count": 8,
   "id": "0481c602",
   "metadata": {},
   "outputs": [
    {
     "data": {
      "text/plain": [
       "index                                                       117251\n",
       "WORD                            SUPERCALIFRAGILISTICEXPIALIDOCIOUS\n",
       "PRONUNCIATION    S UW P ER K AE L AH F R AE JH AH L IH S T IH K...\n",
       "SYLLABLES                                                       14\n",
       "SCANSION                                            susupusususupu\n",
       "Name: 117251, dtype: object"
      ]
     },
     "execution_count": 8,
     "metadata": {},
     "output_type": "execute_result"
    }
   ],
   "source": [
    "df.loc[df['SYLLABLES'].idxmax()]"
   ]
  },
  {
   "cell_type": "code",
   "execution_count": 9,
   "id": "56b6b8a6",
   "metadata": {},
   "outputs": [
    {
     "data": {
      "text/html": [
       "<div>\n",
       "<style scoped>\n",
       "    .dataframe tbody tr th:only-of-type {\n",
       "        vertical-align: middle;\n",
       "    }\n",
       "\n",
       "    .dataframe tbody tr th {\n",
       "        vertical-align: top;\n",
       "    }\n",
       "\n",
       "    .dataframe thead th {\n",
       "        text-align: right;\n",
       "    }\n",
       "</style>\n",
       "<table border=\"1\" class=\"dataframe\">\n",
       "  <thead>\n",
       "    <tr style=\"text-align: right;\">\n",
       "      <th></th>\n",
       "      <th>index</th>\n",
       "      <th>WORD</th>\n",
       "      <th>PRONUNCIATION</th>\n",
       "      <th>SYLLABLES</th>\n",
       "      <th>SCANSION</th>\n",
       "    </tr>\n",
       "  </thead>\n",
       "  <tbody>\n",
       "    <tr>\n",
       "      <th>117251</th>\n",
       "      <td>117251</td>\n",
       "      <td>SUPERCALIFRAGILISTICEXPIALIDOCIOUS</td>\n",
       "      <td>S UW P ER K AE L AH F R AE JH AH L IH S T IH K...</td>\n",
       "      <td>14</td>\n",
       "      <td>susupusususupu</td>\n",
       "    </tr>\n",
       "  </tbody>\n",
       "</table>\n",
       "</div>"
      ],
      "text/plain": [
       "         index                                WORD  \\\n",
       "117251  117251  SUPERCALIFRAGILISTICEXPIALIDOCIOUS   \n",
       "\n",
       "                                            PRONUNCIATION  SYLLABLES  \\\n",
       "117251  S UW P ER K AE L AH F R AE JH AH L IH S T IH K...         14   \n",
       "\n",
       "              SCANSION  \n",
       "117251  susupusususupu  "
      ]
     },
     "execution_count": 9,
     "metadata": {},
     "output_type": "execute_result"
    }
   ],
   "source": [
    "# Do any other words match Supercalifragilisticexpialidocious's syllable count?\n",
    "# df.dtypes\n",
    "\n",
    "filter = df['SYLLABLES']\n",
    "df.loc[filter == 14]"
   ]
  },
  {
   "cell_type": "markdown",
   "id": "e8ab9d62",
   "metadata": {},
   "source": [
    "## Let's start getting the count of various things"
   ]
  },
  {
   "cell_type": "code",
   "execution_count": 10,
   "id": "d2b5a28b",
   "metadata": {},
   "outputs": [
    {
     "data": {
      "text/plain": [
       "134316"
      ]
     },
     "execution_count": 10,
     "metadata": {},
     "output_type": "execute_result"
    }
   ],
   "source": [
    "word_count = df['WORD'].count()\n",
    "word_count"
   ]
  },
  {
   "cell_type": "code",
   "execution_count": 11,
   "id": "98eb7bd2",
   "metadata": {},
   "outputs": [
    {
     "data": {
      "text/plain": [
       "{\"'\",\n",
       " '3',\n",
       " 'A',\n",
       " 'B',\n",
       " 'C',\n",
       " 'D',\n",
       " 'E',\n",
       " 'F',\n",
       " 'G',\n",
       " 'H',\n",
       " 'I',\n",
       " 'J',\n",
       " 'K',\n",
       " 'L',\n",
       " 'M',\n",
       " 'N',\n",
       " 'O',\n",
       " 'P',\n",
       " 'Q',\n",
       " 'R',\n",
       " 'S',\n",
       " 'T',\n",
       " 'U',\n",
       " 'V',\n",
       " 'W',\n",
       " 'X',\n",
       " 'Y',\n",
       " 'Z'}"
      ]
     },
     "execution_count": 11,
     "metadata": {},
     "output_type": "execute_result"
    }
   ],
   "source": [
    "unique_starting_characters = set(word[0] for word in df['WORD'])\n",
    "unique_starting_characters"
   ]
  },
  {
   "cell_type": "code",
   "execution_count": 12,
   "id": "56a8bb60",
   "metadata": {},
   "outputs": [
    {
     "data": {
      "text/html": [
       "<div>\n",
       "<style scoped>\n",
       "    .dataframe tbody tr th:only-of-type {\n",
       "        vertical-align: middle;\n",
       "    }\n",
       "\n",
       "    .dataframe tbody tr th {\n",
       "        vertical-align: top;\n",
       "    }\n",
       "\n",
       "    .dataframe thead th {\n",
       "        text-align: right;\n",
       "    }\n",
       "</style>\n",
       "<table border=\"1\" class=\"dataframe\">\n",
       "  <thead>\n",
       "    <tr style=\"text-align: right;\">\n",
       "      <th></th>\n",
       "      <th>index</th>\n",
       "      <th>WORD</th>\n",
       "      <th>PRONUNCIATION</th>\n",
       "      <th>SYLLABLES</th>\n",
       "      <th>SCANSION</th>\n",
       "    </tr>\n",
       "  </thead>\n",
       "  <tbody>\n",
       "    <tr>\n",
       "      <th>16</th>\n",
       "      <td>16</td>\n",
       "      <td>3-D</td>\n",
       "      <td>TH R IY D IY</td>\n",
       "      <td>2</td>\n",
       "      <td>ps</td>\n",
       "    </tr>\n",
       "    <tr>\n",
       "      <th>17</th>\n",
       "      <td>17</td>\n",
       "      <td>3D</td>\n",
       "      <td>TH R IY D IY</td>\n",
       "      <td>2</td>\n",
       "      <td>ps</td>\n",
       "    </tr>\n",
       "  </tbody>\n",
       "</table>\n",
       "</div>"
      ],
      "text/plain": [
       "    index WORD PRONUNCIATION  SYLLABLES SCANSION\n",
       "16     16  3-D  TH R IY D IY          2       ps\n",
       "17     17   3D  TH R IY D IY          2       ps"
      ]
     },
     "execution_count": 12,
     "metadata": {},
     "output_type": "execute_result"
    }
   ],
   "source": [
    "# There's a word that starts with three?!\n",
    "df.loc[df['WORD'].str.startswith('3')]"
   ]
  },
  {
   "cell_type": "markdown",
   "id": "424a066d",
   "metadata": {},
   "source": [
    "That checks out. And look, a trochee (two stressed syllables in a row)!"
   ]
  },
  {
   "cell_type": "code",
   "execution_count": 13,
   "id": "a6567d2d",
   "metadata": {},
   "outputs": [
    {
     "data": {
      "text/plain": [
       "WORD\n",
       "'       16\n",
       "3        2\n",
       "A     7326\n",
       "B     9749\n",
       "C    10776\n",
       "D     7756\n",
       "E     4760\n",
       "F     5240\n",
       "G     5731\n",
       "H     6457\n",
       "I     3406\n",
       "J     1677\n",
       "K     4166\n",
       "L     5524\n",
       "M     9563\n",
       "N     3220\n",
       "O     2985\n",
       "P     8242\n",
       "Q      463\n",
       "R     7311\n",
       "S    14011\n",
       "T     5660\n",
       "U     1805\n",
       "V     2341\n",
       "W     4400\n",
       "X       80\n",
       "Y      731\n",
       "Z      918\n",
       "dtype: int64"
      ]
     },
     "execution_count": 13,
     "metadata": {},
     "output_type": "execute_result"
    }
   ],
   "source": [
    "# Finding the count of each starting letter. \n",
    "grouped_by_starting_letter =  df.groupby(df.WORD.str[0])\n",
    "grouped_by_starting_letter.size()"
   ]
  },
  {
   "cell_type": "code",
   "execution_count": 82,
   "id": "864a3411",
   "metadata": {},
   "outputs": [
    {
     "data": {
      "text/plain": [
       "SYLLABLES\n",
       "1     16974\n",
       "2     61626\n",
       "3     37259\n",
       "4     13568\n",
       "5      3916\n",
       "6       822\n",
       "7       131\n",
       "8        16\n",
       "9         2\n",
       "12        1\n",
       "14        1\n",
       "dtype: int64"
      ]
     },
     "execution_count": 82,
     "metadata": {},
     "output_type": "execute_result"
    }
   ],
   "source": [
    "grouped_by_syllable_count = df.groupby(df['SYLLABLES'])\n",
    "grouped_by_syllable_count.size()"
   ]
  },
  {
   "cell_type": "markdown",
   "id": "79a187bd",
   "metadata": {},
   "source": [
    "so that's why two-syllable words take longer in the app."
   ]
  },
  {
   "cell_type": "markdown",
   "id": "aa3decc4",
   "metadata": {},
   "source": [
    "## Analysis of rhyme occurrence\n",
    "\n",
    "As we can see, there are 11 different syllable counts. For this we'll need a function that finds each unique 1 syllable rhyme, 2 syllable rhyme etc... Then we can use that list to get counts of how many times the rhyme occurs.\n",
    "\n",
    "Luckily, the app has a way to find these rhymes, finding all of the possibilities will require a few steps.\n",
    "\n",
    "Tentative steps to take:\n",
    "- get list of unique syllable counts\n",
    "- For each number of syllables trying to match, return a DataFrame of all the words with that many, or more, syllables.\n",
    "- Of those words, see which end with the same rhyme pattern."
   ]
  },
  {
   "cell_type": "code",
   "execution_count": 15,
   "id": "75007a9a",
   "metadata": {},
   "outputs": [],
   "source": [
    "# the relevant functions from Poetry and Lyric Helper\n",
    "\n",
    "# def syllables_to_list(word_object: words) -> list:\n",
    "#     \"\"\"convert syllables of a word to a list of syllables to use for matching rhymes\"\"\"\n",
    "#     pronunciation = word_object.PRONUNCIATION.split()\n",
    "#     return pronunciation\n",
    "\n",
    "\n",
    "# def syllable_to_match(pronunciation_list: list) -> str:\n",
    "#     \"\"\"Parses syllables list to find last syllable\"\"\"\n",
    "#     rhyme = ''\n",
    "#     i = len(pronunciation_list) - 1\n",
    "#     while i >= 0:\n",
    "#         if pronunciation_list[i][0] in ['A', 'E', 'I', 'O', 'U']:\n",
    "#             rhyme = ' '.join(pronunciation_list[i:])\n",
    "#             # pronunciation_list = pronunciation_list[:i]\n",
    "#             break\n",
    "#         else:\n",
    "#             i -= 1\n",
    "#     return rhyme\n",
    "\n",
    "\n",
    "# def match_syllable(word_object: words, syllable: str, syllable_count_matches: list) -> list:\n",
    "#     # results = words.query.filter(words.PRONUNCIATION.endswith(syllable), words.WORD != word_object.WORD).all()\n",
    "#     results = [word for word in syllable_count_matches if\n",
    "#                word.PRONUNCIATION.endswith(syllable) and word.WORD != word_object.WORD]\n",
    "#     return  results\n",
    "\n",
    "\n",
    "# def get_rhyme_dict(word_object: words, syllable_count_matches: list) -> dict:\n",
    "#     \"\"\"Given a word, return a dictionary with number of syllables rhymed as the key\n",
    "#     and matching words as values\"\"\"\n",
    "#     syllable_count = word_object.SYLLABLES\n",
    "#     pronunciation_list = syllables_to_list(word_object)\n",
    "#     rhyme = ''\n",
    "#     results_dict = {}\n",
    "#     i = 0\n",
    "#     while i < syllable_count:\n",
    "#         if i == 0:\n",
    "#             temp = syllable_to_match(pronunciation_list)\n",
    "#             rhyme = temp\n",
    "#             results_dict[i+1] = match_syllable(word_object, rhyme, syllable_count_matches)\n",
    "#             num_indexes_to_remove = len(temp.split())\n",
    "#             pronunciation_list = pronunciation_list[:-num_indexes_to_remove]\n",
    "#             i += 1\n",
    "#         else:\n",
    "#             temp = syllable_to_match(pronunciation_list)\n",
    "#             rhyme = temp + ' ' + rhyme\n",
    "#             value_list = match_syllable(word_object, rhyme, syllable_count_matches)\n",
    "#             for word in value_list:\n",
    "#                 if word in results_dict[i]:\n",
    "#                     results_dict[i].remove(word)\n",
    "#                 else:\n",
    "#                     value_list.append(word)\n",
    "#             results_dict[i+1] = value_list\n",
    "#             if len(results_dict[i+1]) == 0:\n",
    "#                 results_dict.pop(i+1)\n",
    "#                 break\n",
    "#             num_indexes_to_remove = len(temp.split())\n",
    "#             pronunciation_list = pronunciation_list[:-num_indexes_to_remove]\n",
    "#             i += 1\n",
    "#     return results_dict\n",
    "\n",
    "\n",
    "# def get_close_matches_rhyme(word_object: words, syllable_count_matches: list) -> dict:\n",
    "#     \"\"\"Given a word, searches the database and returns a dict of word objects where\n",
    "#     rhyme matches are found at various syllable counts.\"\"\"\n",
    "#     rhyme_matches = get_rhyme_dict(word_object, syllable_count_matches)\n",
    "#     close_matches_rhymes = {}\n",
    "#     # for num in range(word_object.SYLLABLES): # number of syllables\n",
    "#     for num in range(len(list(rhyme_matches.keys()))): # number of keys, to avoid out of range when matches weren't found.\n",
    "#         syllable_match_list = details_list_to_word_list(syllable_count_matches)\n",
    "#         rhyme_list = details_list_to_word_list(rhyme_matches[num + 1])\n",
    "#         close_matches_rhymes[num+1] = [word for word in syllable_match_list if word in rhyme_list]\n",
    "#         if len(close_matches_rhymes[num+1]) == 0:\n",
    "#             close_matches_rhymes.pop(num+1)\n",
    "#     return close_matches_rhymes"
   ]
  },
  {
   "cell_type": "markdown",
   "id": "aef45fff",
   "metadata": {},
   "source": [
    "### First order of business is to get the list of all possible rhymes across the range of syllables to be matched."
   ]
  },
  {
   "cell_type": "code",
   "execution_count": 16,
   "id": "0f6f09cf",
   "metadata": {},
   "outputs": [
    {
     "data": {
      "text/plain": [
       "[1, 2, 3, 4, 5, 6, 7, 8, 9, 12, 14]"
      ]
     },
     "execution_count": 16,
     "metadata": {},
     "output_type": "execute_result"
    }
   ],
   "source": [
    "syllable_count = sorted(df.SYLLABLES.unique())\n",
    "syllable_count"
   ]
  },
  {
   "cell_type": "markdown",
   "id": "d3402660",
   "metadata": {},
   "source": [
    "Then create a function to create a DataFrame with only that syllable count or higher."
   ]
  },
  {
   "cell_type": "code",
   "execution_count": 17,
   "id": "ebb10e60",
   "metadata": {},
   "outputs": [
    {
     "data": {
      "text/html": [
       "<div>\n",
       "<style scoped>\n",
       "    .dataframe tbody tr th:only-of-type {\n",
       "        vertical-align: middle;\n",
       "    }\n",
       "\n",
       "    .dataframe tbody tr th {\n",
       "        vertical-align: top;\n",
       "    }\n",
       "\n",
       "    .dataframe thead th {\n",
       "        text-align: right;\n",
       "    }\n",
       "</style>\n",
       "<table border=\"1\" class=\"dataframe\">\n",
       "  <thead>\n",
       "    <tr style=\"text-align: right;\">\n",
       "      <th></th>\n",
       "      <th>index</th>\n",
       "      <th>WORD</th>\n",
       "      <th>PRONUNCIATION</th>\n",
       "      <th>SYLLABLES</th>\n",
       "      <th>SCANSION</th>\n",
       "    </tr>\n",
       "  </thead>\n",
       "  <tbody>\n",
       "    <tr>\n",
       "      <th>26</th>\n",
       "      <td>26</td>\n",
       "      <td>A42128</td>\n",
       "      <td>EY F AO R T UW W AH N T UW EY T</td>\n",
       "      <td>6</td>\n",
       "      <td>pppppp</td>\n",
       "    </tr>\n",
       "    <tr>\n",
       "      <th>96</th>\n",
       "      <td>96</td>\n",
       "      <td>ABBATIELLO</td>\n",
       "      <td>AA B AA T IY EH L OW</td>\n",
       "      <td>5</td>\n",
       "      <td>uuupu</td>\n",
       "    </tr>\n",
       "    <tr>\n",
       "      <th>114</th>\n",
       "      <td>114</td>\n",
       "      <td>ABBREVIATED</td>\n",
       "      <td>AH B R IY V IY EY T IH D</td>\n",
       "      <td>5</td>\n",
       "      <td>upusu</td>\n",
       "    </tr>\n",
       "    <tr>\n",
       "      <th>116</th>\n",
       "      <td>116</td>\n",
       "      <td>ABBREVIATING</td>\n",
       "      <td>AH B R IY V IY EY T IH NG</td>\n",
       "      <td>5</td>\n",
       "      <td>upusu</td>\n",
       "    </tr>\n",
       "    <tr>\n",
       "      <th>117</th>\n",
       "      <td>117</td>\n",
       "      <td>ABBREVIATION</td>\n",
       "      <td>AH B R IY V IY EY SH AH N</td>\n",
       "      <td>5</td>\n",
       "      <td>usupu</td>\n",
       "    </tr>\n",
       "  </tbody>\n",
       "</table>\n",
       "</div>"
      ],
      "text/plain": [
       "     index          WORD                    PRONUNCIATION  SYLLABLES SCANSION\n",
       "26      26        A42128  EY F AO R T UW W AH N T UW EY T          6   pppppp\n",
       "96      96    ABBATIELLO             AA B AA T IY EH L OW          5    uuupu\n",
       "114    114   ABBREVIATED         AH B R IY V IY EY T IH D          5    upusu\n",
       "116    116  ABBREVIATING        AH B R IY V IY EY T IH NG          5    upusu\n",
       "117    117  ABBREVIATION        AH B R IY V IY EY SH AH N          5    usupu"
      ]
     },
     "execution_count": 17,
     "metadata": {},
     "output_type": "execute_result"
    }
   ],
   "source": [
    "def get_syllable_match_df(num_of_syllables):\n",
    "    return df.loc[df['SYLLABLES'] >= num_of_syllables]\n",
    "\n",
    "get_syllable_match_df(5).head()"
   ]
  },
  {
   "cell_type": "markdown",
   "id": "2bb8e298",
   "metadata": {},
   "source": [
    "Actually, we can probably use Pandas groups for matching rhymes & counts down the road."
   ]
  },
  {
   "cell_type": "code",
   "execution_count": 19,
   "id": "b6042fa7",
   "metadata": {},
   "outputs": [
    {
     "data": {
      "text/plain": [
       "<pandas.core.groupby.generic.DataFrameGroupBy object at 0x1261b1ff0>"
      ]
     },
     "execution_count": 19,
     "metadata": {},
     "output_type": "execute_result"
    }
   ],
   "source": [
    "grouped_by_syllable_count_size = df.groupby(df['SYLLABLES'])\n",
    "grouped_by_syllable_count_size"
   ]
  },
  {
   "cell_type": "markdown",
   "id": "e7e05b79",
   "metadata": {},
   "source": [
    "Groups may be superfluous.\n",
    "\n",
    "** let's return dataframes with >= number of syllables. Then parse the same number of syllables as the selected number. \n",
    "- first find all single syllable rhyme patterns.\n",
    "- then find all second syllable rhyme patterns, instead of looping through like we're trying to find various syllable matches like in the app.\n",
    "- return all those rhyme patterns to a list, then use that list to find words that str.endswith(pattern)"
   ]
  },
  {
   "cell_type": "code",
   "execution_count": 99,
   "id": "d01e70b9",
   "metadata": {},
   "outputs": [
    {
     "name": "stdout",
     "output_type": "stream",
     "text": [
      "<class 'pandas.core.frame.DataFrame'>\n",
      "B R EH DH R AH N\n",
      "['B', 'R', 'EH', 'DH', 'R', 'AH', 'N']\n"
     ]
    }
   ],
   "source": [
    "def get_pronunciation_string(word_row) -> str:\n",
    "    \"\"\"Convert word row to just a string of its pronunciation\"\"\"\n",
    "    return word_row['PRONUNCIATION'].item()\n",
    "\n",
    "def syllables_to_list(word: str) -> list:\n",
    "    \"\"\"convert syllables of a word to a list of syllables to use for matching rhymes\"\"\"\n",
    "    pronunciation = word.split()\n",
    "    return pronunciation\n",
    "\n",
    "test = df.loc[df['WORD'] == 'BRETHREN']\n",
    "print(type(test))\n",
    "# print(test)\n",
    "pronunciation = test['PRONUNCIATION'].item()\n",
    "print(pronunciation)\n",
    "pronunciation = get_pronunciation_string(test)\n",
    "print(syllables_to_list(pronunciation))"
   ]
  },
  {
   "cell_type": "markdown",
   "id": "8dc4c0d4",
   "metadata": {},
   "source": [
    "Now we have functions to;\n",
    "- return a DataFrame with words matching syllable counts we need.\n",
    "- return a row's pronunciation\n",
    "- return a that pronunciation as a list.\n",
    "\n",
    "From here we can write the function to find the rhyme pattern we need.\n",
    "\n",
    "Then use that pattern to match rows in the DataFrame.\n",
    "\n",
    "** a potential problem with going the route I am is that if there are any words of higher syllable counts that end with a sound not found in any of the lower syllable count words, the final analysis may not be accurate. Something to think about, thought I may be overthinking it. \n",
    "\n",
    "** Nevermind, I will just let the functions take the time to parse the last syllable of higher count words as well, instead of just parsing only words matching the syllable count passed in to syllable_match function."
   ]
  },
  {
   "cell_type": "code",
   "execution_count": 62,
   "id": "06744e3b",
   "metadata": {},
   "outputs": [],
   "source": [
    "# since we're not always taking the last syllable, we'll also pass in a number of syllables to grab\n",
    "# so it will be slightly different than the code commented out above.\n",
    "\n",
    "def syllable_to_match(pronunciation_list: list, num_of_syllables: int) -> str:\n",
    "    \"\"\"Parses a pronunciation list \"\"\"\n",
    "    rhyme = ''\n",
    "    syllables_found = 0\n",
    "    i = len(pronunciation_list) - 1\n",
    "    while i >= 0 and syllables_found < num_of_syllables:\n",
    "        if pronunciation_list[i][0] in ['A', 'E', 'I', 'O', 'U']:\n",
    "            syllables_found += 1\n",
    "            i -= 1\n",
    "            if syllables_found == num_of_syllables:\n",
    "                rhyme = ' '.join(pronunciation_list[i+1:])\n",
    "                break\n",
    "        else:\n",
    "            i -= 1\n",
    "    return rhyme"
   ]
  },
  {
   "cell_type": "code",
   "execution_count": 113,
   "id": "0589fc8b",
   "metadata": {},
   "outputs": [
    {
     "name": "stdout",
     "output_type": "stream",
     "text": [
      "UW P ER K AE L AH F R AE JH AH L IH S T IH K EH K S P IY AE L AH D OW SH AH S\n"
     ]
    }
   ],
   "source": [
    "test_word = df.loc[df['WORD'] == 'SUPERCALIFRAGILISTICEXPIALIDOCIOUS']\n",
    "test_word = get_pronunciation_string(test_word)\n",
    "test_word = syllables_to_list(test_word)\n",
    "# print(test_word)\n",
    "\n",
    "# let's see how it works\n",
    "\n",
    "print(syllable_to_match(test_word, 14))"
   ]
  },
  {
   "cell_type": "markdown",
   "id": "c9b04160",
   "metadata": {},
   "source": [
    "Almost all the pieces. Now to write a function that returns a list of rhyme patterns found across syllable counts."
   ]
  },
  {
   "cell_type": "code",
   "execution_count": 87,
   "id": "f33cbbde",
   "metadata": {},
   "outputs": [
    {
     "name": "stdout",
     "output_type": "stream",
     "text": [
      "[1, 2, 3, 4, 5, 6, 7, 8, 9, 12, 14]\n"
     ]
    }
   ],
   "source": [
    "syllable_count_list = list(grouped_by_syllable_count.groups.keys())\n",
    "print(syllable_count_list)"
   ]
  },
  {
   "cell_type": "code",
   "execution_count": 122,
   "id": "b1415da2",
   "metadata": {},
   "outputs": [
    {
     "name": "stdout",
     "output_type": "stream",
     "text": [
      "{'EH K S T R AH T EH R AH T AO R IY AE L AH T IY', 'UW P ER K AE L AH F R AE JH AH L IH S T IH K EH K S P IY AE L AH D OW SH AH S', 'AH S T AE B L IH SH M AH N T EH R IY AH N IH Z AH M', 'AH L IH S T IH K EH K S P IY AE L AH D OW SH AH S', 'IY IH N S T IH T UW SH AH N AH L AH Z EY SH AH N'}\n"
     ]
    }
   ],
   "source": [
    "def get_list_of_rhyme_patterns(dataframe, syllable_cnt_list) -> set:\n",
    "    output = set()\n",
    "    for count in syllable_cnt_list:\n",
    "        syl_df = get_syllable_match_df(count)\n",
    "        for i in range(len(syl_df)):\n",
    "            row = syl_df.iloc[[i]]\n",
    "            pronunciation = get_pronunciation_string(row)\n",
    "            pronunciation = syllables_to_list(pronunciation)\n",
    "            rhyme_pattern = syllable_to_match(pronunciation, count)\n",
    "            output.add(rhyme_pattern)\n",
    "    return output\n",
    "\n",
    "test_lst = [9, 14]\n",
    "test_rhyme_pattern_list = get_list_of_rhyme_patterns(df, test_lst)\n",
    "print(test_rhyme_pattern_list)"
   ]
  },
  {
   "cell_type": "markdown",
   "id": "2c02c940",
   "metadata": {},
   "source": [
    "Let's make the complete set of rhyme patterns found in our database!"
   ]
  },
  {
   "cell_type": "code",
   "execution_count": 125,
   "id": "9bdd0e28",
   "metadata": {},
   "outputs": [],
   "source": [
    "rhyme_patterns = get_list_of_rhyme_patterns(df, syllable_count_list)"
   ]
  },
  {
   "cell_type": "code",
   "execution_count": 126,
   "id": "1b6d9027",
   "metadata": {},
   "outputs": [
    {
     "name": "stdout",
     "output_type": "stream",
     "text": [
      "<class 'set'>\n",
      "96360\n"
     ]
    }
   ],
   "source": [
    "print(type(rhyme_patterns))\n",
    "print(len(rhyme_patterns))"
   ]
  },
  {
   "cell_type": "markdown",
   "id": "a6508bfc",
   "metadata": {},
   "source": [
    "96360 different rhyme patterns cumulatively found across the various syllable counts! That's quite high.\n",
    "\n",
    "If we wanted to see the most common syllable matches for each syllable count, we could return the rhyme_patterns as a dict instead of a set. It may be worthwhile to do that, just for easily analysis later."
   ]
  },
  {
   "cell_type": "code",
   "execution_count": 127,
   "id": "ed451bfc",
   "metadata": {},
   "outputs": [
    {
     "name": "stdout",
     "output_type": "stream",
     "text": [
      "{9: ['AH L IH S T IH K EH K S P IY AE L AH D OW SH AH S', 'AH S T AE B L IH SH M AH N T EH R IY AH N IH Z AH M', 'EH K S T R AH T EH R AH T AO R IY AE L AH T IY', 'IY IH N S T IH T UW SH AH N AH L AH Z EY SH AH N'], 14: ['UW P ER K AE L AH F R AE JH AH L IH S T IH K EH K S P IY AE L AH D OW SH AH S']}\n"
     ]
    }
   ],
   "source": [
    "def get_list_of_rhyme_patterns(dataframe, syllable_cnt_list) -> dict:\n",
    "    output = {}\n",
    "    for count in syllable_cnt_list:\n",
    "        value_set = set()\n",
    "        syl_df = get_syllable_match_df(count)\n",
    "        for i in range(len(syl_df)):\n",
    "            row = syl_df.iloc[[i]]\n",
    "            pronunciation = get_pronunciation_string(row)\n",
    "            pronunciation = syllables_to_list(pronunciation)\n",
    "            rhyme_pattern = syllable_to_match(pronunciation, count)\n",
    "            value_set.add(rhyme_pattern)\n",
    "        output[count] = sorted(value_set)\n",
    "    return output\n",
    "\n",
    "test_lst = [9, 14]\n",
    "test_rhyme_pattern_list = get_list_of_rhyme_patterns(df, test_lst)\n",
    "print(test_rhyme_pattern_list)"
   ]
  },
  {
   "cell_type": "markdown",
   "id": "463574da",
   "metadata": {},
   "source": [
    "That looks much better! And it will make it easier to analyze later."
   ]
  },
  {
   "cell_type": "code",
   "execution_count": 128,
   "id": "56c894d3",
   "metadata": {},
   "outputs": [],
   "source": [
    "rhyme_patterns = get_list_of_rhyme_patterns(df, syllable_count_list)"
   ]
  },
  {
   "cell_type": "code",
   "execution_count": 132,
   "id": "ff8acd79",
   "metadata": {},
   "outputs": [
    {
     "name": "stdout",
     "output_type": "stream",
     "text": [
      "dict_keys([1, 2, 3, 4, 5, 6, 7, 8, 9, 12, 14])\n"
     ]
    },
    {
     "ename": "AttributeError",
     "evalue": "'list' object has no attribute 'values'",
     "output_type": "error",
     "traceback": [
      "\u001b[0;31m---------------------------------------------------------------------------\u001b[0m",
      "\u001b[0;31mAttributeError\u001b[0m                            Traceback (most recent call last)",
      "Input \u001b[0;32mIn [132]\u001b[0m, in \u001b[0;36m<cell line: 2>\u001b[0;34m()\u001b[0m\n\u001b[1;32m      1\u001b[0m \u001b[38;5;28mprint\u001b[39m(rhyme_patterns\u001b[38;5;241m.\u001b[39mkeys())\n\u001b[0;32m----> 2\u001b[0m \u001b[38;5;28;43msum\u001b[39;49m\u001b[43m(\u001b[49m\u001b[38;5;28;43mlen\u001b[39;49m\u001b[43m(\u001b[49m\u001b[43mlst\u001b[49m\u001b[43m)\u001b[49m\u001b[43m \u001b[49m\u001b[38;5;28;43;01mfor\u001b[39;49;00m\u001b[43m \u001b[49m\u001b[43mdct\u001b[49m\u001b[43m \u001b[49m\u001b[38;5;129;43;01min\u001b[39;49;00m\u001b[43m \u001b[49m\u001b[43mrhyme_patterns\u001b[49m\u001b[38;5;241;43m.\u001b[39;49m\u001b[43mvalues\u001b[49m\u001b[43m(\u001b[49m\u001b[43m)\u001b[49m\u001b[43m \u001b[49m\u001b[38;5;28;43;01mfor\u001b[39;49;00m\u001b[43m \u001b[49m\u001b[43mlst\u001b[49m\u001b[43m \u001b[49m\u001b[38;5;129;43;01min\u001b[39;49;00m\u001b[43m \u001b[49m\u001b[43mdct\u001b[49m\u001b[38;5;241;43m.\u001b[39;49m\u001b[43mvalues\u001b[49m\u001b[43m(\u001b[49m\u001b[43m)\u001b[49m\u001b[43m)\u001b[49m\n",
      "Input \u001b[0;32mIn [132]\u001b[0m, in \u001b[0;36m<genexpr>\u001b[0;34m(.0)\u001b[0m\n\u001b[1;32m      1\u001b[0m \u001b[38;5;28mprint\u001b[39m(rhyme_patterns\u001b[38;5;241m.\u001b[39mkeys())\n\u001b[0;32m----> 2\u001b[0m \u001b[38;5;28msum\u001b[39m(\u001b[38;5;28mlen\u001b[39m(lst) \u001b[38;5;28;01mfor\u001b[39;00m dct \u001b[38;5;129;01min\u001b[39;00m rhyme_patterns\u001b[38;5;241m.\u001b[39mvalues() \u001b[38;5;28;01mfor\u001b[39;00m lst \u001b[38;5;129;01min\u001b[39;00m \u001b[43mdct\u001b[49m\u001b[38;5;241;43m.\u001b[39;49m\u001b[43mvalues\u001b[49m())\n",
      "\u001b[0;31mAttributeError\u001b[0m: 'list' object has no attribute 'values'"
     ]
    }
   ],
   "source": [
    "print(rhyme_patterns.keys())\n",
    "sum(len(lst) for dct in rhyme_patterns.values() for lst in dct.values())\n",
    "se"
   ]
  },
  {
   "cell_type": "code",
   "execution_count": null,
   "id": "507331ae",
   "metadata": {},
   "outputs": [],
   "source": []
  }
 ],
 "metadata": {
  "kernelspec": {
   "display_name": "Python 3 (ipykernel)",
   "language": "python",
   "name": "python3"
  },
  "language_info": {
   "codemirror_mode": {
    "name": "ipython",
    "version": 3
   },
   "file_extension": ".py",
   "mimetype": "text/x-python",
   "name": "python",
   "nbconvert_exporter": "python",
   "pygments_lexer": "ipython3",
   "version": "3.10.6"
  }
 },
 "nbformat": 4,
 "nbformat_minor": 5
}
