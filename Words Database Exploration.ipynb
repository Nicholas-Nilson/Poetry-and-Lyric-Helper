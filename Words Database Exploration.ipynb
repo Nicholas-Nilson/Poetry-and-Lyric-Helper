{
 "cells": [
  {
   "cell_type": "markdown",
   "id": "7896a9df",
   "metadata": {},
   "source": [
    "# Get connection to the local sqlite database to prep for creating dataframe.\n"
   ]
  },
  {
   "cell_type": "code",
   "execution_count": 1,
   "id": "8cf2c88b",
   "metadata": {},
   "outputs": [
    {
     "name": "stdout",
     "output_type": "stream",
     "text": [
      "(0, \"'ALLO\", 'AA L OW', 2, 'sp')\n",
      "(1, \"'BOUT\", 'B AW T', 1, 'p')\n",
      "(2, \"'CAUSE\", 'K AH Z', 1, 'u')\n",
      "(3, \"'COURSE\", 'K AO R S', 1, 'p')\n",
      "(4, \"'CUSE\", 'K Y UW Z', 1, 'p')\n"
     ]
    }
   ],
   "source": [
    "import sqlite3, os\n",
    "\n",
    "con = sqlite3.connect(\"./Helper/data/wordsdb.db\")\n",
    "cur = con.cursor()\n",
    "for row in cur.execute('SELECT * FROM words limit 5'):\n",
    "    print(row)"
   ]
  },
  {
   "cell_type": "markdown",
   "id": "4fb5195b",
   "metadata": {},
   "source": [
    "# Now to create the DataFrame object for us in analysis"
   ]
  },
  {
   "cell_type": "code",
   "execution_count": 2,
   "id": "4263e3cd",
   "metadata": {},
   "outputs": [
    {
     "data": {
      "text/html": [
       "<div>\n",
       "<style scoped>\n",
       "    .dataframe tbody tr th:only-of-type {\n",
       "        vertical-align: middle;\n",
       "    }\n",
       "\n",
       "    .dataframe tbody tr th {\n",
       "        vertical-align: top;\n",
       "    }\n",
       "\n",
       "    .dataframe thead th {\n",
       "        text-align: right;\n",
       "    }\n",
       "</style>\n",
       "<table border=\"1\" class=\"dataframe\">\n",
       "  <thead>\n",
       "    <tr style=\"text-align: right;\">\n",
       "      <th></th>\n",
       "      <th>index</th>\n",
       "      <th>WORD</th>\n",
       "      <th>PRONUNCIATION</th>\n",
       "      <th>SYLLABLES</th>\n",
       "      <th>SCANSION</th>\n",
       "    </tr>\n",
       "  </thead>\n",
       "  <tbody>\n",
       "    <tr>\n",
       "      <th>0</th>\n",
       "      <td>0</td>\n",
       "      <td>'ALLO</td>\n",
       "      <td>AA L OW</td>\n",
       "      <td>2</td>\n",
       "      <td>sp</td>\n",
       "    </tr>\n",
       "    <tr>\n",
       "      <th>1</th>\n",
       "      <td>1</td>\n",
       "      <td>'BOUT</td>\n",
       "      <td>B AW T</td>\n",
       "      <td>1</td>\n",
       "      <td>p</td>\n",
       "    </tr>\n",
       "    <tr>\n",
       "      <th>2</th>\n",
       "      <td>2</td>\n",
       "      <td>'CAUSE</td>\n",
       "      <td>K AH Z</td>\n",
       "      <td>1</td>\n",
       "      <td>u</td>\n",
       "    </tr>\n",
       "    <tr>\n",
       "      <th>3</th>\n",
       "      <td>3</td>\n",
       "      <td>'COURSE</td>\n",
       "      <td>K AO R S</td>\n",
       "      <td>1</td>\n",
       "      <td>p</td>\n",
       "    </tr>\n",
       "    <tr>\n",
       "      <th>4</th>\n",
       "      <td>4</td>\n",
       "      <td>'CUSE</td>\n",
       "      <td>K Y UW Z</td>\n",
       "      <td>1</td>\n",
       "      <td>p</td>\n",
       "    </tr>\n",
       "  </tbody>\n",
       "</table>\n",
       "</div>"
      ],
      "text/plain": [
       "   index     WORD PRONUNCIATION  SYLLABLES SCANSION\n",
       "0      0    'ALLO       AA L OW          2       sp\n",
       "1      1    'BOUT        B AW T          1        p\n",
       "2      2   'CAUSE        K AH Z          1        u\n",
       "3      3  'COURSE      K AO R S          1        p\n",
       "4      4    'CUSE      K Y UW Z          1        p"
      ]
     },
     "execution_count": 2,
     "metadata": {},
     "output_type": "execute_result"
    }
   ],
   "source": [
    "import pandas as pd\n",
    "\n",
    "df = pd.read_sql_query(\"SELECT * FROM words\", con)\n",
    "df.head()"
   ]
  },
  {
   "cell_type": "code",
   "execution_count": 3,
   "id": "2eafe73b",
   "metadata": {},
   "outputs": [
    {
     "data": {
      "text/plain": [
       "index            134316\n",
       "WORD             134316\n",
       "PRONUNCIATION    134316\n",
       "SYLLABLES        134316\n",
       "SCANSION         134316\n",
       "dtype: int64"
      ]
     },
     "execution_count": 3,
     "metadata": {},
     "output_type": "execute_result"
    }
   ],
   "source": [
    "df.count()"
   ]
  },
  {
   "cell_type": "markdown",
   "id": "9bebaa23",
   "metadata": {},
   "source": [
    "## Avenues for analysis:\n",
    "- Count of words \n",
    "    - total \n",
    "    - per starting letter \n",
    "    - per syllable count\n",
    "    - per rhyme\n",
    "    - per scansion foot pattern).\n",
    "- Most common rhymes: for each number of syllables match.. i.e. last syllable, last 2 syllables etc..\n",
    "- Occurence of stress patterns (by common feet used in poetry)"
   ]
  },
  {
   "cell_type": "code",
   "execution_count": 4,
   "id": "b9cea326",
   "metadata": {},
   "outputs": [
    {
     "data": {
      "text/plain": [
       "index            134316\n",
       "WORD             134316\n",
       "PRONUNCIATION    114157\n",
       "SYLLABLES            11\n",
       "SCANSION            287\n",
       "dtype: int64"
      ]
     },
     "execution_count": 4,
     "metadata": {},
     "output_type": "execute_result"
    }
   ],
   "source": [
    "df.nunique()"
   ]
  },
  {
   "cell_type": "markdown",
   "id": "07e5bdd0",
   "metadata": {},
   "source": [
    "We can see there are 134316 distinct entries in the database.\n",
    "\n",
    "It appears we have just under 20,000 words with matching definitions. Finding which pronunciation(s) is most common would be interesting to see.\n",
    "\n",
    "There are 11 different syllable counts, what words(s) has the highest syllable count?"
   ]
  },
  {
   "cell_type": "code",
   "execution_count": 5,
   "id": "0481c602",
   "metadata": {},
   "outputs": [
    {
     "data": {
      "text/plain": [
       "index                                                       117251\n",
       "WORD                            SUPERCALIFRAGILISTICEXPIALIDOCIOUS\n",
       "PRONUNCIATION    S UW P ER K AE L AH F R AE JH AH L IH S T IH K...\n",
       "SYLLABLES                                                       14\n",
       "SCANSION                                            susupusususupu\n",
       "Name: 117251, dtype: object"
      ]
     },
     "execution_count": 5,
     "metadata": {},
     "output_type": "execute_result"
    }
   ],
   "source": [
    "df.loc[df['SYLLABLES'].idxmax()]"
   ]
  },
  {
   "cell_type": "code",
   "execution_count": 6,
   "id": "56b6b8a6",
   "metadata": {},
   "outputs": [
    {
     "data": {
      "text/html": [
       "<div>\n",
       "<style scoped>\n",
       "    .dataframe tbody tr th:only-of-type {\n",
       "        vertical-align: middle;\n",
       "    }\n",
       "\n",
       "    .dataframe tbody tr th {\n",
       "        vertical-align: top;\n",
       "    }\n",
       "\n",
       "    .dataframe thead th {\n",
       "        text-align: right;\n",
       "    }\n",
       "</style>\n",
       "<table border=\"1\" class=\"dataframe\">\n",
       "  <thead>\n",
       "    <tr style=\"text-align: right;\">\n",
       "      <th></th>\n",
       "      <th>index</th>\n",
       "      <th>WORD</th>\n",
       "      <th>PRONUNCIATION</th>\n",
       "      <th>SYLLABLES</th>\n",
       "      <th>SCANSION</th>\n",
       "    </tr>\n",
       "  </thead>\n",
       "  <tbody>\n",
       "    <tr>\n",
       "      <th>117251</th>\n",
       "      <td>117251</td>\n",
       "      <td>SUPERCALIFRAGILISTICEXPIALIDOCIOUS</td>\n",
       "      <td>S UW P ER K AE L AH F R AE JH AH L IH S T IH K...</td>\n",
       "      <td>14</td>\n",
       "      <td>susupusususupu</td>\n",
       "    </tr>\n",
       "  </tbody>\n",
       "</table>\n",
       "</div>"
      ],
      "text/plain": [
       "         index                                WORD  \\\n",
       "117251  117251  SUPERCALIFRAGILISTICEXPIALIDOCIOUS   \n",
       "\n",
       "                                            PRONUNCIATION  SYLLABLES  \\\n",
       "117251  S UW P ER K AE L AH F R AE JH AH L IH S T IH K...         14   \n",
       "\n",
       "              SCANSION  \n",
       "117251  susupusususupu  "
      ]
     },
     "execution_count": 6,
     "metadata": {},
     "output_type": "execute_result"
    }
   ],
   "source": [
    "# Do any other words match Supercalifragilisticexpialidocious's syllable count?\n",
    "# df.dtypes\n",
    "\n",
    "filter = df['SYLLABLES']\n",
    "df.loc[filter == 14]"
   ]
  },
  {
   "cell_type": "markdown",
   "id": "e8ab9d62",
   "metadata": {},
   "source": [
    "## Let's start getting the count of various things"
   ]
  },
  {
   "cell_type": "code",
   "execution_count": 7,
   "id": "d2b5a28b",
   "metadata": {},
   "outputs": [
    {
     "data": {
      "text/plain": [
       "134316"
      ]
     },
     "execution_count": 7,
     "metadata": {},
     "output_type": "execute_result"
    }
   ],
   "source": [
    "word_count = df['WORD'].count()\n",
    "word_count"
   ]
  },
  {
   "cell_type": "code",
   "execution_count": 8,
   "id": "98eb7bd2",
   "metadata": {},
   "outputs": [
    {
     "data": {
      "text/plain": [
       "{\"'\",\n",
       " '3',\n",
       " 'A',\n",
       " 'B',\n",
       " 'C',\n",
       " 'D',\n",
       " 'E',\n",
       " 'F',\n",
       " 'G',\n",
       " 'H',\n",
       " 'I',\n",
       " 'J',\n",
       " 'K',\n",
       " 'L',\n",
       " 'M',\n",
       " 'N',\n",
       " 'O',\n",
       " 'P',\n",
       " 'Q',\n",
       " 'R',\n",
       " 'S',\n",
       " 'T',\n",
       " 'U',\n",
       " 'V',\n",
       " 'W',\n",
       " 'X',\n",
       " 'Y',\n",
       " 'Z'}"
      ]
     },
     "execution_count": 8,
     "metadata": {},
     "output_type": "execute_result"
    }
   ],
   "source": [
    "unique_starting_characters = set(word[0] for word in df['WORD'])\n",
    "unique_starting_characters"
   ]
  },
  {
   "cell_type": "code",
   "execution_count": 9,
   "id": "56a8bb60",
   "metadata": {},
   "outputs": [
    {
     "data": {
      "text/html": [
       "<div>\n",
       "<style scoped>\n",
       "    .dataframe tbody tr th:only-of-type {\n",
       "        vertical-align: middle;\n",
       "    }\n",
       "\n",
       "    .dataframe tbody tr th {\n",
       "        vertical-align: top;\n",
       "    }\n",
       "\n",
       "    .dataframe thead th {\n",
       "        text-align: right;\n",
       "    }\n",
       "</style>\n",
       "<table border=\"1\" class=\"dataframe\">\n",
       "  <thead>\n",
       "    <tr style=\"text-align: right;\">\n",
       "      <th></th>\n",
       "      <th>index</th>\n",
       "      <th>WORD</th>\n",
       "      <th>PRONUNCIATION</th>\n",
       "      <th>SYLLABLES</th>\n",
       "      <th>SCANSION</th>\n",
       "    </tr>\n",
       "  </thead>\n",
       "  <tbody>\n",
       "    <tr>\n",
       "      <th>16</th>\n",
       "      <td>16</td>\n",
       "      <td>3-D</td>\n",
       "      <td>TH R IY D IY</td>\n",
       "      <td>2</td>\n",
       "      <td>ps</td>\n",
       "    </tr>\n",
       "    <tr>\n",
       "      <th>17</th>\n",
       "      <td>17</td>\n",
       "      <td>3D</td>\n",
       "      <td>TH R IY D IY</td>\n",
       "      <td>2</td>\n",
       "      <td>ps</td>\n",
       "    </tr>\n",
       "  </tbody>\n",
       "</table>\n",
       "</div>"
      ],
      "text/plain": [
       "    index WORD PRONUNCIATION  SYLLABLES SCANSION\n",
       "16     16  3-D  TH R IY D IY          2       ps\n",
       "17     17   3D  TH R IY D IY          2       ps"
      ]
     },
     "execution_count": 9,
     "metadata": {},
     "output_type": "execute_result"
    }
   ],
   "source": [
    "# There's a word that starts with three?!\n",
    "df.loc[df['WORD'].str.startswith('3')]"
   ]
  },
  {
   "cell_type": "markdown",
   "id": "424a066d",
   "metadata": {},
   "source": [
    "That checks out. And look, a trochee (two stressed syllables in a row)!"
   ]
  },
  {
   "cell_type": "code",
   "execution_count": 10,
   "id": "a6567d2d",
   "metadata": {},
   "outputs": [
    {
     "data": {
      "text/plain": [
       "WORD\n",
       "'       16\n",
       "3        2\n",
       "A     7326\n",
       "B     9749\n",
       "C    10776\n",
       "D     7756\n",
       "E     4760\n",
       "F     5240\n",
       "G     5731\n",
       "H     6457\n",
       "I     3406\n",
       "J     1677\n",
       "K     4166\n",
       "L     5524\n",
       "M     9563\n",
       "N     3220\n",
       "O     2985\n",
       "P     8242\n",
       "Q      463\n",
       "R     7311\n",
       "S    14011\n",
       "T     5660\n",
       "U     1805\n",
       "V     2341\n",
       "W     4400\n",
       "X       80\n",
       "Y      731\n",
       "Z      918\n",
       "dtype: int64"
      ]
     },
     "execution_count": 10,
     "metadata": {},
     "output_type": "execute_result"
    }
   ],
   "source": [
    "# Finding the count of each starting letter. \n",
    "grouped_by_starting_letter =  df.groupby(df.WORD.str[0])\n",
    "grouped_by_starting_letter.size()"
   ]
  },
  {
   "cell_type": "code",
   "execution_count": 11,
   "id": "864a3411",
   "metadata": {},
   "outputs": [
    {
     "data": {
      "text/plain": [
       "SYLLABLES\n",
       "1     16974\n",
       "2     61626\n",
       "3     37259\n",
       "4     13568\n",
       "5      3916\n",
       "6       822\n",
       "7       131\n",
       "8        16\n",
       "9         2\n",
       "12        1\n",
       "14        1\n",
       "dtype: int64"
      ]
     },
     "execution_count": 11,
     "metadata": {},
     "output_type": "execute_result"
    }
   ],
   "source": [
    "grouped_by_syllable_count = df.groupby(df['SYLLABLES'])\n",
    "grouped_by_syllable_count.size()"
   ]
  },
  {
   "cell_type": "markdown",
   "id": "79a187bd",
   "metadata": {},
   "source": [
    "so that's why two-syllable words take longer in the app."
   ]
  },
  {
   "cell_type": "markdown",
   "id": "aa3decc4",
   "metadata": {},
   "source": [
    "## Analysis of rhyme occurrence\n",
    "\n",
    "As we can see, there are 11 different syllable counts. For this we'll need a function that finds each unique 1 syllable rhyme, 2 syllable rhyme etc... Then we can use that list to get counts of how many times the rhyme occurs.\n",
    "\n",
    "Luckily, the app has a way to find these rhymes, finding all of the possibilities will require a few steps.\n",
    "\n",
    "Tentative steps to take:\n",
    "- get list of unique syllable counts\n",
    "- For each number of syllables trying to match, return a DataFrame of all the words with that many, or more, syllables.\n",
    "- Of those words, see which end with the same rhyme pattern."
   ]
  },
  {
   "cell_type": "code",
   "execution_count": 15,
   "id": "75007a9a",
   "metadata": {},
   "outputs": [],
   "source": [
    "# the relevant functions from Poetry and Lyric Helper\n",
    "\n",
    "# def syllables_to_list(word_object: words) -> list:\n",
    "#     \"\"\"convert syllables of a word to a list of syllables to use for matching rhymes\"\"\"\n",
    "#     pronunciation = word_object.PRONUNCIATION.split()\n",
    "#     return pronunciation\n",
    "\n",
    "\n",
    "# def syllable_to_match(pronunciation_list: list) -> str:\n",
    "#     \"\"\"Parses syllables list to find last syllable\"\"\"\n",
    "#     rhyme = ''\n",
    "#     i = len(pronunciation_list) - 1\n",
    "#     while i >= 0:\n",
    "#         if pronunciation_list[i][0] in ['A', 'E', 'I', 'O', 'U']:\n",
    "#             rhyme = ' '.join(pronunciation_list[i:])\n",
    "#             # pronunciation_list = pronunciation_list[:i]\n",
    "#             break\n",
    "#         else:\n",
    "#             i -= 1\n",
    "#     return rhyme\n",
    "\n",
    "\n",
    "# def match_syllable(word_object: words, syllable: str, syllable_count_matches: list) -> list:\n",
    "#     # results = words.query.filter(words.PRONUNCIATION.endswith(syllable), words.WORD != word_object.WORD).all()\n",
    "#     results = [word for word in syllable_count_matches if\n",
    "#                word.PRONUNCIATION.endswith(syllable) and word.WORD != word_object.WORD]\n",
    "#     return  results\n",
    "\n",
    "\n",
    "# def get_rhyme_dict(word_object: words, syllable_count_matches: list) -> dict:\n",
    "#     \"\"\"Given a word, return a dictionary with number of syllables rhymed as the key\n",
    "#     and matching words as values\"\"\"\n",
    "#     syllable_count = word_object.SYLLABLES\n",
    "#     pronunciation_list = syllables_to_list(word_object)\n",
    "#     rhyme = ''\n",
    "#     results_dict = {}\n",
    "#     i = 0\n",
    "#     while i < syllable_count:\n",
    "#         if i == 0:\n",
    "#             temp = syllable_to_match(pronunciation_list)\n",
    "#             rhyme = temp\n",
    "#             results_dict[i+1] = match_syllable(word_object, rhyme, syllable_count_matches)\n",
    "#             num_indexes_to_remove = len(temp.split())\n",
    "#             pronunciation_list = pronunciation_list[:-num_indexes_to_remove]\n",
    "#             i += 1\n",
    "#         else:\n",
    "#             temp = syllable_to_match(pronunciation_list)\n",
    "#             rhyme = temp + ' ' + rhyme\n",
    "#             value_list = match_syllable(word_object, rhyme, syllable_count_matches)\n",
    "#             for word in value_list:\n",
    "#                 if word in results_dict[i]:\n",
    "#                     results_dict[i].remove(word)\n",
    "#                 else:\n",
    "#                     value_list.append(word)\n",
    "#             results_dict[i+1] = value_list\n",
    "#             if len(results_dict[i+1]) == 0:\n",
    "#                 results_dict.pop(i+1)\n",
    "#                 break\n",
    "#             num_indexes_to_remove = len(temp.split())\n",
    "#             pronunciation_list = pronunciation_list[:-num_indexes_to_remove]\n",
    "#             i += 1\n",
    "#     return results_dict\n",
    "\n",
    "\n",
    "# def get_close_matches_rhyme(word_object: words, syllable_count_matches: list) -> dict:\n",
    "#     \"\"\"Given a word, searches the database and returns a dict of word objects where\n",
    "#     rhyme matches are found at various syllable counts.\"\"\"\n",
    "#     rhyme_matches = get_rhyme_dict(word_object, syllable_count_matches)\n",
    "#     close_matches_rhymes = {}\n",
    "#     # for num in range(word_object.SYLLABLES): # number of syllables\n",
    "#     for num in range(len(list(rhyme_matches.keys()))): # number of keys, to avoid out of range when matches weren't found.\n",
    "#         syllable_match_list = details_list_to_word_list(syllable_count_matches)\n",
    "#         rhyme_list = details_list_to_word_list(rhyme_matches[num + 1])\n",
    "#         close_matches_rhymes[num+1] = [word for word in syllable_match_list if word in rhyme_list]\n",
    "#         if len(close_matches_rhymes[num+1]) == 0:\n",
    "#             close_matches_rhymes.pop(num+1)\n",
    "#     return close_matches_rhymes"
   ]
  },
  {
   "cell_type": "markdown",
   "id": "aef45fff",
   "metadata": {},
   "source": [
    "### First order of business is to get the list of all possible rhymes across the range of syllables to be matched."
   ]
  },
  {
   "cell_type": "code",
   "execution_count": 12,
   "id": "0f6f09cf",
   "metadata": {},
   "outputs": [
    {
     "data": {
      "text/plain": [
       "[1, 2, 3, 4, 5, 6, 7, 8, 9, 12, 14]"
      ]
     },
     "execution_count": 12,
     "metadata": {},
     "output_type": "execute_result"
    }
   ],
   "source": [
    "syllable_count = sorted(df.SYLLABLES.unique())\n",
    "syllable_count"
   ]
  },
  {
   "cell_type": "markdown",
   "id": "d3402660",
   "metadata": {},
   "source": [
    "Then create a function to create a DataFrame with only that syllable count or higher."
   ]
  },
  {
   "cell_type": "code",
   "execution_count": 13,
   "id": "ebb10e60",
   "metadata": {},
   "outputs": [
    {
     "data": {
      "text/html": [
       "<div>\n",
       "<style scoped>\n",
       "    .dataframe tbody tr th:only-of-type {\n",
       "        vertical-align: middle;\n",
       "    }\n",
       "\n",
       "    .dataframe tbody tr th {\n",
       "        vertical-align: top;\n",
       "    }\n",
       "\n",
       "    .dataframe thead th {\n",
       "        text-align: right;\n",
       "    }\n",
       "</style>\n",
       "<table border=\"1\" class=\"dataframe\">\n",
       "  <thead>\n",
       "    <tr style=\"text-align: right;\">\n",
       "      <th></th>\n",
       "      <th>index</th>\n",
       "      <th>WORD</th>\n",
       "      <th>PRONUNCIATION</th>\n",
       "      <th>SYLLABLES</th>\n",
       "      <th>SCANSION</th>\n",
       "    </tr>\n",
       "  </thead>\n",
       "  <tbody>\n",
       "    <tr>\n",
       "      <th>26</th>\n",
       "      <td>26</td>\n",
       "      <td>A42128</td>\n",
       "      <td>EY F AO R T UW W AH N T UW EY T</td>\n",
       "      <td>6</td>\n",
       "      <td>pppppp</td>\n",
       "    </tr>\n",
       "    <tr>\n",
       "      <th>96</th>\n",
       "      <td>96</td>\n",
       "      <td>ABBATIELLO</td>\n",
       "      <td>AA B AA T IY EH L OW</td>\n",
       "      <td>5</td>\n",
       "      <td>uuupu</td>\n",
       "    </tr>\n",
       "    <tr>\n",
       "      <th>114</th>\n",
       "      <td>114</td>\n",
       "      <td>ABBREVIATED</td>\n",
       "      <td>AH B R IY V IY EY T IH D</td>\n",
       "      <td>5</td>\n",
       "      <td>upusu</td>\n",
       "    </tr>\n",
       "    <tr>\n",
       "      <th>116</th>\n",
       "      <td>116</td>\n",
       "      <td>ABBREVIATING</td>\n",
       "      <td>AH B R IY V IY EY T IH NG</td>\n",
       "      <td>5</td>\n",
       "      <td>upusu</td>\n",
       "    </tr>\n",
       "    <tr>\n",
       "      <th>117</th>\n",
       "      <td>117</td>\n",
       "      <td>ABBREVIATION</td>\n",
       "      <td>AH B R IY V IY EY SH AH N</td>\n",
       "      <td>5</td>\n",
       "      <td>usupu</td>\n",
       "    </tr>\n",
       "  </tbody>\n",
       "</table>\n",
       "</div>"
      ],
      "text/plain": [
       "     index          WORD                    PRONUNCIATION  SYLLABLES SCANSION\n",
       "26      26        A42128  EY F AO R T UW W AH N T UW EY T          6   pppppp\n",
       "96      96    ABBATIELLO             AA B AA T IY EH L OW          5    uuupu\n",
       "114    114   ABBREVIATED         AH B R IY V IY EY T IH D          5    upusu\n",
       "116    116  ABBREVIATING        AH B R IY V IY EY T IH NG          5    upusu\n",
       "117    117  ABBREVIATION        AH B R IY V IY EY SH AH N          5    usupu"
      ]
     },
     "execution_count": 13,
     "metadata": {},
     "output_type": "execute_result"
    }
   ],
   "source": [
    "def get_syllable_match_df(num_of_syllables):\n",
    "    return df.loc[df['SYLLABLES'] >= num_of_syllables]\n",
    "\n",
    "get_syllable_match_df(5).head()"
   ]
  },
  {
   "cell_type": "markdown",
   "id": "2bb8e298",
   "metadata": {},
   "source": [
    "Actually, we can probably use Pandas groups for matching rhymes & counts down the road."
   ]
  },
  {
   "cell_type": "code",
   "execution_count": 14,
   "id": "b6042fa7",
   "metadata": {},
   "outputs": [
    {
     "data": {
      "text/plain": [
       "<pandas.core.groupby.generic.DataFrameGroupBy object at 0x10eb6d1e0>"
      ]
     },
     "execution_count": 14,
     "metadata": {},
     "output_type": "execute_result"
    }
   ],
   "source": [
    "grouped_by_syllable_count_size = df.groupby(df['SYLLABLES'])\n",
    "grouped_by_syllable_count_size"
   ]
  },
  {
   "cell_type": "markdown",
   "id": "e7e05b79",
   "metadata": {},
   "source": [
    "Groups may be superfluous.\n",
    "\n",
    "** let's return dataframes with >= number of syllables. Then parse the same number of syllables as the selected number. \n",
    "- first find all single syllable rhyme patterns.\n",
    "- then find all second syllable rhyme patterns, instead of looping through like we're trying to find various syllable matches like in the app.\n",
    "- return all those rhyme patterns to a list, then use that list to find words that str.endswith(pattern)"
   ]
  },
  {
   "cell_type": "code",
   "execution_count": 15,
   "id": "d01e70b9",
   "metadata": {},
   "outputs": [
    {
     "name": "stdout",
     "output_type": "stream",
     "text": [
      "<class 'pandas.core.frame.DataFrame'>\n",
      "B R EH DH R AH N\n",
      "['B', 'R', 'EH', 'DH', 'R', 'AH', 'N']\n"
     ]
    }
   ],
   "source": [
    "def get_pronunciation_string(word_row) -> str:\n",
    "    \"\"\"Convert word row to just a string of its pronunciation\"\"\"\n",
    "    return word_row['PRONUNCIATION'].item()\n",
    "\n",
    "def syllables_to_list(word: str) -> list:\n",
    "    \"\"\"convert syllables of a word to a list of syllables to use for matching rhymes\"\"\"\n",
    "    pronunciation = word.split()\n",
    "    return pronunciation\n",
    "\n",
    "test = df.loc[df['WORD'] == 'BRETHREN']\n",
    "print(type(test))\n",
    "# print(test)\n",
    "pronunciation = test['PRONUNCIATION'].item()\n",
    "print(pronunciation)\n",
    "pronunciation = get_pronunciation_string(test)\n",
    "print(syllables_to_list(pronunciation))"
   ]
  },
  {
   "cell_type": "markdown",
   "id": "c820a5fd",
   "metadata": {},
   "source": [
    "Now we have functions to;\n",
    "- return a DataFrame with words matching syllable counts we need.\n",
    "- return a row's pronunciation\n",
    "- return a that pronunciation as a list.\n",
    "\n",
    "From here we can write the function to find the rhyme pattern we need.\n",
    "\n",
    "Then use that pattern to match rows in the DataFrame.\n",
    "\n",
    "** a potential problem with going the route I am is that if there are any words of higher syllable counts that end with a sound not found in any of the lower syllable count words, the final analysis may not be accurate. Something to think about, thought I may be overthinking it. \n",
    "\n",
    "** Nevermind, I will just let the functions take the time to parse the last syllable of higher count words as well, instead of just parsing only words matching the syllable count passed in to syllable_match function."
   ]
  },
  {
   "cell_type": "code",
   "execution_count": 16,
   "id": "cf8e64d5",
   "metadata": {},
   "outputs": [],
   "source": [
    "# since we're not always taking the last syllable, we'll also pass in a number of syllables to grab\n",
    "# so it will be slightly different than the code commented out above.\n",
    "\n",
    "def syllable_to_match(pronunciation_list: list, num_of_syllables: int) -> str:\n",
    "    \"\"\"Parses a pronunciation list \"\"\"\n",
    "    rhyme = ''\n",
    "    syllables_found = 0\n",
    "    i = len(pronunciation_list) - 1\n",
    "    while i >= 0 and syllables_found < num_of_syllables:\n",
    "        if pronunciation_list[i][0] in ['A', 'E', 'I', 'O', 'U']:\n",
    "            syllables_found += 1\n",
    "            i -= 1\n",
    "            if syllables_found == num_of_syllables:\n",
    "                rhyme = ' '.join(pronunciation_list[i+1:])\n",
    "                break\n",
    "        else:\n",
    "            i -= 1\n",
    "    return rhyme"
   ]
  },
  {
   "cell_type": "code",
   "execution_count": 17,
   "id": "612ca566",
   "metadata": {},
   "outputs": [
    {
     "name": "stdout",
     "output_type": "stream",
     "text": [
      "UW P ER K AE L AH F R AE JH AH L IH S T IH K EH K S P IY AE L AH D OW SH AH S\n"
     ]
    }
   ],
   "source": [
    "test_word = df.loc[df['WORD'] == 'SUPERCALIFRAGILISTICEXPIALIDOCIOUS']\n",
    "test_word = get_pronunciation_string(test_word)\n",
    "test_word = syllables_to_list(test_word)\n",
    "# print(test_word)\n",
    "\n",
    "# let's see how it works\n",
    "\n",
    "print(syllable_to_match(test_word, 14))"
   ]
  },
  {
   "cell_type": "markdown",
   "id": "f06f9181",
   "metadata": {},
   "source": [
    "Almost all the pieces. Now to write a function that returns a list of rhyme patterns found across syllable counts."
   ]
  },
  {
   "cell_type": "code",
   "execution_count": 18,
   "id": "1a20d5e6",
   "metadata": {},
   "outputs": [
    {
     "name": "stdout",
     "output_type": "stream",
     "text": [
      "[1, 2, 3, 4, 5, 6, 7, 8, 9, 12, 14]\n"
     ]
    }
   ],
   "source": [
    "syllable_count_list = list(grouped_by_syllable_count.groups.keys())\n",
    "print(syllable_count_list)"
   ]
  },
  {
   "cell_type": "code",
   "execution_count": 19,
   "id": "afb90599",
   "metadata": {},
   "outputs": [
    {
     "name": "stdout",
     "output_type": "stream",
     "text": [
      "{'UW P ER K AE L AH F R AE JH AH L IH S T IH K EH K S P IY AE L AH D OW SH AH S', 'AH S T AE B L IH SH M AH N T EH R IY AH N IH Z AH M', 'IY IH N S T IH T UW SH AH N AH L AH Z EY SH AH N', 'AH L IH S T IH K EH K S P IY AE L AH D OW SH AH S', 'EH K S T R AH T EH R AH T AO R IY AE L AH T IY'}\n"
     ]
    }
   ],
   "source": [
    "def get_list_of_rhyme_patterns(dataframe, syllable_cnt_list) -> set:\n",
    "    output = set()\n",
    "    for count in syllable_cnt_list:\n",
    "        syl_df = get_syllable_match_df(count)\n",
    "        for i in range(len(syl_df)):\n",
    "            row = syl_df.iloc[[i]]\n",
    "            pronunciation = get_pronunciation_string(row)\n",
    "            pronunciation = syllables_to_list(pronunciation)\n",
    "            rhyme_pattern = syllable_to_match(pronunciation, count)\n",
    "            output.add(rhyme_pattern)\n",
    "    return output\n",
    "\n",
    "test_lst = [9, 14]\n",
    "test_rhyme_pattern_list = get_list_of_rhyme_patterns(df, test_lst)\n",
    "print(test_rhyme_pattern_list)"
   ]
  },
  {
   "cell_type": "markdown",
   "id": "0e120be3",
   "metadata": {},
   "source": [
    "Let's make the complete set of rhyme patterns found in our database!"
   ]
  },
  {
   "cell_type": "code",
   "execution_count": 20,
   "id": "8d796c51",
   "metadata": {},
   "outputs": [],
   "source": [
    "rhyme_patterns = get_list_of_rhyme_patterns(df, syllable_count_list)"
   ]
  },
  {
   "cell_type": "code",
   "execution_count": 22,
   "id": "f6f00292",
   "metadata": {},
   "outputs": [
    {
     "name": "stdout",
     "output_type": "stream",
     "text": [
      "<class 'set'>\n",
      "96360\n"
     ]
    }
   ],
   "source": [
    "print(type(rhyme_patterns))\n",
    "print(len(rhyme_patterns))"
   ]
  },
  {
   "cell_type": "markdown",
   "id": "5bcf98b2",
   "metadata": {},
   "source": [
    "96360 different rhyme patterns cumulatively found across the various syllable counts! That's quite high.\n",
    "\n",
    "If we wanted to see the most common syllable matches for each syllable count, we could return the rhyme_patterns as a dict instead of a set. It may be worthwhile to do that, just for easily analysis later."
   ]
  },
  {
   "cell_type": "code",
   "execution_count": 23,
   "id": "1516b951",
   "metadata": {},
   "outputs": [
    {
     "name": "stdout",
     "output_type": "stream",
     "text": [
      "{9: ['AH L IH S T IH K EH K S P IY AE L AH D OW SH AH S', 'AH S T AE B L IH SH M AH N T EH R IY AH N IH Z AH M', 'EH K S T R AH T EH R AH T AO R IY AE L AH T IY', 'IY IH N S T IH T UW SH AH N AH L AH Z EY SH AH N'], 14: ['UW P ER K AE L AH F R AE JH AH L IH S T IH K EH K S P IY AE L AH D OW SH AH S']}\n"
     ]
    }
   ],
   "source": [
    "def get_list_of_rhyme_patterns(dataframe, syllable_cnt_list) -> dict:\n",
    "    output = {}\n",
    "    for count in syllable_cnt_list:\n",
    "        value_set = set()\n",
    "        syl_df = get_syllable_match_df(count)\n",
    "        for i in range(len(syl_df)):\n",
    "            row = syl_df.iloc[[i]]\n",
    "            pronunciation = get_pronunciation_string(row)\n",
    "            pronunciation = syllables_to_list(pronunciation)\n",
    "            rhyme_pattern = syllable_to_match(pronunciation, count)\n",
    "            value_set.add(rhyme_pattern)\n",
    "        output[count] = sorted(value_set)\n",
    "    return output\n",
    "\n",
    "test_lst = [9, 14]\n",
    "test_rhyme_pattern_list = get_list_of_rhyme_patterns(df, test_lst)\n",
    "print(test_rhyme_pattern_list)"
   ]
  },
  {
   "cell_type": "markdown",
   "id": "1394dd46",
   "metadata": {},
   "source": [
    "That looks much better! And it will make it easier to analyze later."
   ]
  },
  {
   "cell_type": "code",
   "execution_count": 24,
   "id": "da7f35fc",
   "metadata": {},
   "outputs": [],
   "source": [
    "rhyme_patterns = get_list_of_rhyme_patterns(df, syllable_count_list)"
   ]
  },
  {
   "cell_type": "code",
   "execution_count": 25,
   "id": "2e09dfdf",
   "metadata": {},
   "outputs": [
    {
     "name": "stdout",
     "output_type": "stream",
     "text": [
      "dict_keys([1, 2, 3, 4, 5, 6, 7, 8, 9, 12, 14])\n"
     ]
    },
    {
     "data": {
      "text/plain": [
       "96360"
      ]
     },
     "execution_count": 25,
     "metadata": {},
     "output_type": "execute_result"
    }
   ],
   "source": [
    "# our keys should match the syllable count list\n",
    "print(rhyme_patterns.keys())\n",
    "\n",
    "# let's make sure we returned the same number of patterns.\n",
    "sum(len(lst) for lst in rhyme_patterns.values())"
   ]
  },
  {
   "cell_type": "markdown",
   "id": "098d7424",
   "metadata": {},
   "source": [
    "Now to get the count of rhymes per pattern so we can see which rhyme patterns are most common.\n",
    "\n",
    "The question is whether to only match words with the same number of syllables or the same or higher number of syllables.\n",
    "\n",
    "Or, perhaps both."
   ]
  },
  {
   "cell_type": "code",
   "execution_count": 26,
   "id": "cec5ec50",
   "metadata": {},
   "outputs": [],
   "source": [
    "def get_exact_syllable_match_df(num_of_syllables):\n",
    "    return df.loc[df['SYLLABLES'] == num_of_syllables]"
   ]
  },
  {
   "cell_type": "code",
   "execution_count": 60,
   "id": "c4959ac0",
   "metadata": {},
   "outputs": [],
   "source": [
    "def get_rhyme_counts(rhyme_patterns, dataframe) -> dict:\n",
    "    output_dict = {}\n",
    "    for key in rhyme_patterns:\n",
    "        df = get_exact_syllable_match_df(key)\n",
    "        output_dict[key] = []\n",
    "        for pattern in rhyme_patterns[key]:\n",
    "            number_of_matches = len(df.loc[df['PRONUNCIATION'].str.endswith(pattern) | df['PRONUNCIATION'].str.match(pattern)].index)\n",
    "            temp_tuple = (pattern, number_of_matches)\n",
    "            output_dict[key].append(temp_tuple)\n",
    "    return output_dict"
   ]
  },
  {
   "cell_type": "code",
   "execution_count": 29,
   "id": "a700c059",
   "metadata": {},
   "outputs": [
    {
     "name": "stdout",
     "output_type": "stream",
     "text": [
      "1397\n",
      "34930\n",
      "38724\n",
      "15728\n",
      "4488\n",
      "925\n",
      "141\n",
      "20\n",
      "4\n",
      "2\n",
      "1\n"
     ]
    }
   ],
   "source": [
    "for key in rhyme_patterns:\n",
    "    print(len(rhyme_patterns[key]))"
   ]
  },
  {
   "cell_type": "code",
   "execution_count": 45,
   "id": "124fa943",
   "metadata": {},
   "outputs": [
    {
     "data": {
      "text/plain": [
       "134316"
      ]
     },
     "execution_count": 45,
     "metadata": {},
     "output_type": "execute_result"
    }
   ],
   "source": [
    "# quick check for the above function\n",
    "df.loc[df['PRONUNCIATION'].str.endswith('AE L AH T IY')]\n",
    "# len(df.index)"
   ]
  },
  {
   "cell_type": "code",
   "execution_count": 61,
   "id": "b1141c5a",
   "metadata": {},
   "outputs": [
    {
     "name": "stdout",
     "output_type": "stream",
     "text": [
      "dict_keys([1, 2, 3, 4, 5, 6, 7, 8, 9, 12, 14])\n"
     ]
    }
   ],
   "source": [
    "test_dict = get_rhyme_counts(rhyme_patterns, df)\n",
    "print(test_dict.keys())"
   ]
  },
  {
   "cell_type": "code",
   "execution_count": 58,
   "id": "424802af",
   "metadata": {},
   "outputs": [
    {
     "data": {
      "text/html": [
       "<div>\n",
       "<style scoped>\n",
       "    .dataframe tbody tr th:only-of-type {\n",
       "        vertical-align: middle;\n",
       "    }\n",
       "\n",
       "    .dataframe tbody tr th {\n",
       "        vertical-align: top;\n",
       "    }\n",
       "\n",
       "    .dataframe thead th {\n",
       "        text-align: right;\n",
       "    }\n",
       "</style>\n",
       "<table border=\"1\" class=\"dataframe\">\n",
       "  <thead>\n",
       "    <tr style=\"text-align: right;\">\n",
       "      <th></th>\n",
       "      <th>index</th>\n",
       "      <th>WORD</th>\n",
       "      <th>PRONUNCIATION</th>\n",
       "      <th>SYLLABLES</th>\n",
       "      <th>SCANSION</th>\n",
       "    </tr>\n",
       "  </thead>\n",
       "  <tbody>\n",
       "    <tr>\n",
       "      <th>59830</th>\n",
       "      <td>59830</td>\n",
       "      <td>INSTITUTIONALIZATION</td>\n",
       "      <td>IH N S T IH T UW SH AH N AH L IH Z EY SH AH N</td>\n",
       "      <td>8</td>\n",
       "      <td>susuuupu</td>\n",
       "    </tr>\n",
       "  </tbody>\n",
       "</table>\n",
       "</div>"
      ],
      "text/plain": [
       "       index                  WORD  \\\n",
       "59830  59830  INSTITUTIONALIZATION   \n",
       "\n",
       "                                       PRONUNCIATION  SYLLABLES  SCANSION  \n",
       "59830  IH N S T IH T UW SH AH N AH L IH Z EY SH AH N          8  susuuupu  "
      ]
     },
     "execution_count": 58,
     "metadata": {},
     "output_type": "execute_result"
    }
   ],
   "source": [
    "# print(test_dict[8])\n",
    "test_df = get_exact_syllable_match_df(8)\n",
    "test_df.head()\n",
    "# test_df.loc[test_df['PRONUNCIATION'].str.endswith('N S T IH T UW SH AH N AH L AH Z EY SH AH N') | df['PRONUNCIATION'] == 'IH N S T IH T UW SH AH N AH L AH Z EY SH AH N']"
   ]
  },
  {
   "cell_type": "code",
   "execution_count": 72,
   "id": "c2fdbb52",
   "metadata": {},
   "outputs": [
    {
     "data": {
      "text/html": [
       "<div>\n",
       "<style scoped>\n",
       "    .dataframe tbody tr th:only-of-type {\n",
       "        vertical-align: middle;\n",
       "    }\n",
       "\n",
       "    .dataframe tbody tr th {\n",
       "        vertical-align: top;\n",
       "    }\n",
       "\n",
       "    .dataframe thead th {\n",
       "        text-align: right;\n",
       "    }\n",
       "</style>\n",
       "<table border=\"1\" class=\"dataframe\">\n",
       "  <thead>\n",
       "    <tr style=\"text-align: right;\">\n",
       "      <th></th>\n",
       "      <th>index</th>\n",
       "      <th>WORD</th>\n",
       "      <th>PRONUNCIATION</th>\n",
       "      <th>SYLLABLES</th>\n",
       "      <th>SCANSION</th>\n",
       "    </tr>\n",
       "  </thead>\n",
       "  <tbody>\n",
       "    <tr>\n",
       "      <th>3842</th>\n",
       "      <td>3842</td>\n",
       "      <td>ANAESTHESIOLOGIST</td>\n",
       "      <td>AE N AH S TH IY Z IY AA L AH JH IH S T</td>\n",
       "      <td>7</td>\n",
       "      <td>susupuu</td>\n",
       "    </tr>\n",
       "    <tr>\n",
       "      <th>3843</th>\n",
       "      <td>3843</td>\n",
       "      <td>ANAESTHESIOLOGISTS</td>\n",
       "      <td>AE N AH S TH IY Z IY AA L AH JH IH S T S</td>\n",
       "      <td>7</td>\n",
       "      <td>susupuu</td>\n",
       "    </tr>\n",
       "    <tr>\n",
       "      <th>3844</th>\n",
       "      <td>3844</td>\n",
       "      <td>ANAESTHESIOLOGISTS(1)</td>\n",
       "      <td>AE N AH S TH IY Z IY AA L AH JH IH S</td>\n",
       "      <td>7</td>\n",
       "      <td>susupuu</td>\n",
       "    </tr>\n",
       "    <tr>\n",
       "      <th>4089</th>\n",
       "      <td>4089</td>\n",
       "      <td>ANESTHESIOLOGIST</td>\n",
       "      <td>AE N AH S TH IY Z IY AA L AH JH IH S T</td>\n",
       "      <td>7</td>\n",
       "      <td>susupuu</td>\n",
       "    </tr>\n",
       "    <tr>\n",
       "      <th>4090</th>\n",
       "      <td>4090</td>\n",
       "      <td>ANESTHESIOLOGISTS</td>\n",
       "      <td>AE N AH S TH IY Z IY AA L AH JH IH S T S</td>\n",
       "      <td>7</td>\n",
       "      <td>susupuu</td>\n",
       "    </tr>\n",
       "    <tr>\n",
       "      <th>4091</th>\n",
       "      <td>4091</td>\n",
       "      <td>ANESTHESIOLOGISTS(1)</td>\n",
       "      <td>AE N AH S TH IY Z IY AA L AH JH IH S</td>\n",
       "      <td>7</td>\n",
       "      <td>susupuu</td>\n",
       "    </tr>\n",
       "  </tbody>\n",
       "</table>\n",
       "</div>"
      ],
      "text/plain": [
       "      index                   WORD                             PRONUNCIATION  \\\n",
       "3842   3842      ANAESTHESIOLOGIST    AE N AH S TH IY Z IY AA L AH JH IH S T   \n",
       "3843   3843     ANAESTHESIOLOGISTS  AE N AH S TH IY Z IY AA L AH JH IH S T S   \n",
       "3844   3844  ANAESTHESIOLOGISTS(1)      AE N AH S TH IY Z IY AA L AH JH IH S   \n",
       "4089   4089       ANESTHESIOLOGIST    AE N AH S TH IY Z IY AA L AH JH IH S T   \n",
       "4090   4090      ANESTHESIOLOGISTS  AE N AH S TH IY Z IY AA L AH JH IH S T S   \n",
       "4091   4091   ANESTHESIOLOGISTS(1)      AE N AH S TH IY Z IY AA L AH JH IH S   \n",
       "\n",
       "      SYLLABLES SCANSION  \n",
       "3842          7  susupuu  \n",
       "3843          7  susupuu  \n",
       "3844          7  susupuu  \n",
       "4089          7  susupuu  \n",
       "4090          7  susupuu  \n",
       "4091          7  susupuu  "
      ]
     },
     "execution_count": 72,
     "metadata": {},
     "output_type": "execute_result"
    }
   ],
   "source": [
    "pat = 'AE N AH S TH IY Z IY AA L AH JH IH S'\n",
    "df.loc[df['PRONUNCIATION'].str.endswith(pat) | df['PRONUNCIATION'].str.match(pat)]"
   ]
  },
  {
   "cell_type": "code",
   "execution_count": 62,
   "id": "2f83d57a",
   "metadata": {},
   "outputs": [
    {
     "data": {
      "text/plain": [
       "[('AH L IH S T IH K EH K S P IY AE L AH D OW SH AH S', 0),\n",
       " ('AH S T AE B L IH SH M AH N T EH R IY AH N IH Z AH M', 0),\n",
       " ('EH K S T R AH T EH R AH T AO R IY AE L AH T IY', 1),\n",
       " ('IY IH N S T IH T UW SH AH N AH L AH Z EY SH AH N', 1)]"
      ]
     },
     "execution_count": 62,
     "metadata": {},
     "output_type": "execute_result"
    }
   ],
   "source": [
    "test_dict[9]"
   ]
  },
  {
   "cell_type": "markdown",
   "id": "2fd4e0bc",
   "metadata": {},
   "source": [
    "For this test_dict, there are some tuple with zero matches, this is due to only matching based on number of syllables and not how we assembled the rhyme patterns earlier (pulling regardless of syllable count in case of unique patterns found in longer words). When matching regardless of syllable count, these will at least have a value of 1 for occurrences."
   ]
  },
  {
   "cell_type": "code",
   "execution_count": 68,
   "id": "455c2b16",
   "metadata": {},
   "outputs": [
    {
     "name": "stdout",
     "output_type": "stream",
     "text": [
      "[('EY', 198), ('OW', 198), ('UW', 198), ('IY', 178), ('IY Z', 156), ('AY', 149), ('AA', 135), ('EH', 134), ('EY N', 131), ('UW Z', 128), ('EY Z', 123), ('AA R', 119), ('AO R', 118), ('EH R', 116), ('AA K', 107), ('IH N', 107), ('IY L', 107), ('ER', 106), ('AO', 99), ('AE N', 98), ('EH N', 98), ('AE K', 97), ('AW', 97), ('EH L', 96), ('OW L', 96), ('EY L', 92), ('OW Z', 90), ('AA N', 84), ('AE M', 81), ('IY N', 81), ('AE', 77), ('AY Z', 77), ('EH K', 77), ('EY N Z', 77), ('AE K S', 76), ('OW N', 76), ('AO L', 75), ('IH K', 75), ('IH L', 74), ('IH R', 74), ('EY L Z', 73), ('IH T S', 70), ('IY D', 69), ('AA T', 68), ('IY K', 68), ('AA T S', 67), ('AH M', 66), ('EY D', 66), ('IY T S', 66), ('AA L', 65), ('OW L Z', 65), ('AY N', 64), ('EY T', 64), ('EH R Z', 63), ('IH', 62), ('IY S', 62), ('AA P', 61), ('AE N Z', 61), ('IY T', 61), ('OW K', 61), ('AE P', 59), ('AH N', 59), ('AE S', 57), ('IH NG K', 57), ('IH T', 57), ('AA M', 56), ('AY T', 56), ('IH P', 56), ('UW L', 56), ('AE T', 55), ('AY N Z', 55), ('UW T', 55), ('AE T S', 54), ('AY L', 54), ('AY S', 54), ('EH S', 54), ('AE NG K', 53), ('EH N Z', 53), ('ER K', 53), ('AH', 52), ('AY D', 52), ('IH M', 52), ('AO N', 51), ('AO S', 51), ('AY L Z', 51), ('EH M', 51), ('EH T', 51), ('AO R Z', 50), ('EH D', 50), ('IH P S', 50), ('UW N', 50), ('UW P', 50), ('AH K', 49), ('AY T S', 49), ('EY T S', 49), ('OY', 49), ('EH T S', 48), ('AE G', 47), ('IH NG', 47), ('IH S', 47), ('OW D', 47), ('AA K S', 46), ('AE NG', 46), ('EH L Z', 46), ('IH K S', 46), ('AE D', 44), ('AH T S', 44), ('IH CH', 44), ('UW D', 44), ('IH N Z', 43), ('AE SH', 42), ('AO L Z', 42), ('ER N', 42), ('EY K', 42), ('IH L Z', 42), ('AA B', 41), ('AA R Z', 41), ('AH L', 41), ('AE N T', 40), ('AH NG K', 40), ('AO Z', 40), ('AW S', 40), ('AY K', 40), ('EH K S', 40), ('IY N Z', 40), ('AA S', 39), ('AE B', 39), ('AH K S', 39), ('AH N Z', 39), ('AH S', 39), ('AH T', 39), ('EY M', 39), ('EH S T', 38), ('IY M', 38), ('OW M', 38), ('AE M Z', 37), ('AO NG', 37), ('AO R D', 37), ('AW T', 37), ('ER T', 37), ('IH G', 37), ('IY K S', 37), ('AO R T S', 36), ('AW Z', 36), ('OW N Z', 36), ('OW T', 36), ('ER L', 35), ('ER T S', 35), ('IY P', 35), ('AA G', 34), ('AA R K', 34), ('EY K S', 34), ('IH R Z', 34), ('IY CH', 34), ('UH R', 34), ('AE N T S', 33), ('AO R T', 33), ('EH P', 33), ('IY D Z', 33), ('IY V', 33), ('UW S', 33), ('AA B Z', 32), ('AA N Z', 32), ('AE F', 32), ('AE P S', 32), ('AO F', 32), ('AO R K', 32), ('EH N T', 32), ('IY L Z', 32), ('AA Z', 31), ('AE N D', 31), ('AO R N', 31), ('AO T', 31), ('EY S', 31), ('IH M Z', 31), ('UW T S', 31), ('AA P S', 30), ('AA R T', 30), ('AE CH', 30), ('AE G Z', 30), ('AE K T', 30), ('AO K', 30), ('ER K S', 30), ('IH NG K S', 30), ('IH SH', 30), ('IY F', 30), ('UW M', 30), ('AA D', 29), ('EH N T S', 29), ('IH NG Z', 29), ('IH S T', 29), ('IY V Z', 29), ('OW K S', 29), ('OW L D', 29), ('AA R T S', 28), ('AH F', 28), ('AH G', 28), ('AH NG', 28), ('EY M Z', 28), ('IH D', 28), ('IH G Z', 28), ('UW K', 28), ('UW P S', 28), ('AA R K S', 27), ('AE NG K S', 27), ('AY R', 27), ('EH G', 27), ('EH SH', 27), ('ER N Z', 27), ('IH N T', 27), ('AA R D', 26), ('AH M P', 26), ('AO D', 26), ('AW T S', 26), ('AY K S', 26), ('EH NG', 26), ('EH NG K', 26), ('EH R D', 26), ('ER Z', 26), ('IH F', 26), ('IY M Z', 26), ('OW P', 26), ('AE M P', 25), ('AH B', 25), ('AH CH', 25), ('AH D', 25), ('AH P', 25), ('AH SH', 25), ('EH F', 25), ('EY D Z', 25), ('OW L T S', 25), ('UH K', 25), ('AA M Z', 24), ('AY M', 24), ('AY M Z', 24), ('IH Z', 24), ('IY B', 24), ('IY G', 24), ('AE L', 23), ('AE N D Z', 23), ('AE S T', 23), ('AH N T', 23), ('IH P T', 23), ('IY R Z', 23), ('OW S', 23), ('OW T S', 23), ('AA SH', 22), ('AE B Z', 22), ('AH B Z', 22), ('AH N D', 22), ('AH S T', 22), ('AW N Z', 22), ('EH D Z', 22), ('ER D', 22), ('ER S T', 22), ('EY V', 22), ('EY V Z', 22), ('IH S K', 22), ('OY L', 22), ('UW M Z', 22), ('UW N Z', 22), ('UW TH', 22), ('AH M Z', 21), ('AW L', 21), ('ER S', 21), ('EY JH', 21), ('IH B', 21), ('IY TH', 21), ('OW L T', 21), ('OY Z', 21), ('UH K S', 21), ('AA CH', 20), ('AH G Z', 20), ('AW D', 20), ('EH L T S', 20), ('ER L Z', 20), ('ER TH', 20), ('EY N D', 20), ('EY S T', 20), ('IH L D', 20), ('IH N T S', 20), ('OW M Z', 20), ('AA R N', 19), ('AE P T', 19), ('AH N T S', 19), ('AO R D Z', 19), ('AY D Z', 19), ('AY N D', 19), ('AY P', 19), ('EY P', 19), ('IH R D', 19), ('IY L D', 19), ('UW L Z', 19), ('AE D Z', 18), ('AO L D', 18), ('AO R S', 18), ('AO SH', 18), ('AY V Z', 18), ('EH N D', 18), ('EH S T S', 18), ('IH L T', 18), ('OW S T', 18), ('OW V', 18), ('UW B', 18), ('AA N T S', 17), ('AA P T', 17), ('AE N S', 17), ('AE SH T', 17), ('AO B', 17), ('AO N Z', 17), ('AW CH', 17), ('AW N', 17), ('EH K T', 17), ('EH L T', 17), ('IH L T S', 17), ('IH N CH', 17), ('IH N D', 17), ('IY S T', 17), ('OW D Z', 17), ('AA NG K', 16), ('AE TH', 16), ('AH D Z', 16), ('AH F S', 16), ('AO K S', 16), ('AO TH', 16), ('AW N D', 16), ('AY V', 16), ('EH CH', 16), ('EH L D', 16), ('EH M P', 16), ('EH N CH', 16), ('EH N S', 16), ('ER D Z', 16), ('ER M', 16), ('ER SH', 16), ('IH F S', 16), ('IH F T', 16), ('IH K T', 16), ('IH TH', 16), ('IY P S', 16), ('AA D Z', 15), ('AA N D', 15), ('AA R N Z', 15), ('AA S T', 15), ('AA TH', 15), ('AE F T', 15), ('AE S K', 15), ('AH NG K S', 15), ('AO CH', 15), ('AO L T', 15), ('AW R', 15), ('AY R Z', 15), ('EH G Z', 15), ('EH L K', 15), ('EH TH', 15), ('ER JH', 15), ('IH B Z', 15), ('IH M P', 15), ('IY R', 15), ('OW B', 15), ('OY L Z', 15), ('UW JH', 15), ('AA K T', 14), ('AA NG', 14), ('AA R P', 14), ('AH F T', 14), ('AO N T', 14), ('AY F', 14), ('ER V', 14), ('EY L D', 14), ('IH D Z', 14), ('IY JH', 14), ('IY K T', 14), ('OY D', 14), ('UH R Z', 14), ('UW P T', 14), ('AE F T S', 13), ('AE G D', 13), ('AE M P S', 13), ('AE Z', 13), ('AH M P S', 13), ('AH S K', 13), ('AO M', 13), ('AO R N Z', 13), ('AY L D', 13), ('AY S T', 13), ('EH N D Z', 13), ('ER B', 13), ('ER CH', 13), ('EY P S', 13), ('EY Z D', 13), ('OW L D Z', 13), ('UW F', 13), ('UW K S', 13), ('AA G Z', 12), ('AA N S', 12), ('AE F S', 12), ('AE R', 12), ('AH K T', 12), ('AW N D Z', 12), ('AY SH', 12), ('EH B', 12), ('EH JH', 12), ('EH M Z', 12), ('EH Z', 12), ('ER B Z', 12), ('ER M Z', 12), ('EY B', 12), ('IH N JH', 12), ('IY M D', 12), ('OW N D', 12), ('OW P S', 12), ('OY N', 12), ('OY S', 12), ('AA F', 11), ('AA N D Z', 11), ('AA N T', 11), ('AA R B', 11), ('AA R F', 11), ('AA R L Z', 11), ('AA R M Z', 11), ('AH JH', 11), ('AH M P T', 11), ('AH NG Z', 11), ('AH S T S', 11), ('AO NG Z', 11), ('AO P', 11), ('AO R M', 11), ('AW L Z', 11), ('AY B', 11), ('AY N D Z', 11), ('AY P S', 11), ('EH P S', 11), ('EH S K', 11), ('IH F T S', 11), ('IH N S', 11), ('OW G', 11), ('OW L K', 11), ('OW S T S', 11), ('OW TH', 11), ('UW D Z', 11), ('UW R', 11), ('UW V', 11), ('AA M P', 10), ('AA R D Z', 10), ('AA R L', 10), ('AE NG K T', 10), ('AE NG Z', 10), ('AH L T S', 10), ('AO R F', 10), ('AO R M Z', 10), ('AW S T', 10), ('AW SH', 10), ('EH L F', 10), ('EH P T', 10), ('EY G', 10), ('EY M D', 10), ('EY V D', 10), ('OW B Z', 10), ('OW JH', 10), ('OW SH', 10), ('OY N Z', 10), ('UH D', 10), ('UW G', 10), ('AA R CH', 9), ('AA R M', 9), ('AA R SH', 9), ('AE K S T', 9), ('AE L Z', 9), ('AE M D', 9), ('AE S T S', 9), ('AH G D', 9), ('AH N CH', 9), ('AH Z', 9), ('AO G', 9), ('AO L T S', 9), ('AO N T S', 9), ('AO S T', 9), ('AW N S', 9), ('EH F S', 9), ('EH L M', 9), ('ER F', 9), ('EY S K', 9), ('IH S T S', 9), ('IY F S', 9), ('IY SH', 9), ('OW CH', 9), ('OW K T', 9), ('OY L D', 9), ('OY T', 9), ('UW L D', 9), ('UW S T', 9), ('AA L M', 8), ('AA L Z', 8), ('AA R P S', 8), ('AE CH T', 8), ('AE N CH', 8), ('AH B D', 8), ('AH L Z', 8), ('AO G Z', 8), ('AO K T', 8), ('AO R G', 8), ('AO R TH', 8), ('AO T S', 8), ('AW K', 8), ('AY DH', 8), ('AY P T', 8), ('EH B Z', 8), ('EH F T', 8), ('EY F', 8), ('EY N JH', 8), ('EY N T', 8), ('IH L K', 8), ('IH M D', 8), ('IH S K S', 8), ('IY L D Z', 8), ('IY N D', 8), ('IY P T', 8), ('OW F', 8), ('OW L F', 8), ('OW V Z', 8), ('UH L', 8), ('UH L Z', 8), ('UW SH', 8), ('AA B S T', 7), ('AA R JH', 7), ('AA R S', 7), ('AA R TH', 7), ('AA R V', 7), ('AE B D', 7), ('AE S K S', 7), ('AH M D', 7), ('AH N CH T', 7), ('AH N JH', 7), ('AH SH T', 7), ('AH V', 7), ('AO N D', 7), ('AO R JH', 7), ('AY B Z', 7), ('AY CH', 7), ('AY K T', 7), ('AY N T S', 7), ('EH K S T', 7), ('EH L M Z', 7), ('EH N SH', 7), ('ER K T', 7), ('ER L D', 7), ('ER N D', 7), ('ER N T', 7), ('ER P', 7), ('EY JH D', 7), ('EY K T', 7), ('IH CH T', 7), ('IH L M Z', 7), ('IH M P S', 7), ('IY CH T', 7), ('IY S T S', 7), ('IY Z D', 7), ('OW DH', 7), ('OY D Z', 7), ('UH L T S', 7), ('UH SH', 7), ('UW CH', 7), ('UW M D', 7), ('UW NG', 7), ('UW Z D', 7), ('AA F T', 6), ('AA JH', 6), ('AA L M Z', 6), ('AA R G', 6), ('AA V', 6), ('AE K T S', 6), ('AE M P T', 6), ('AH JH D', 6), ('AH L K', 6), ('AH L S', 6), ('AH L T', 6), ('AH P S', 6), ('AH V Z', 6), ('AO F S', 6), ('AO F T', 6), ('AO R F S', 6), ('AO R K S', 6), ('AO R P', 6), ('AO R S T', 6), ('AO R SH', 6), ('AW D Z', 6), ('AY L D Z', 6), ('EH JH D', 6), ('EH L CH', 6), ('EH L P', 6), ('EH V', 6), ('ER JH D', 6), ('ER S T S', 6), ('ER TH S', 6), ('EY CH', 6), ('EY DH', 6), ('EY P T', 6), ('EY R', 6), ('IH K S T', 6), ('IH L K S', 6), ('IH N CH T', 6), ('IH N D Z', 6), ('IH R N', 6), ('IH V', 6), ('OW P T', 6), ('UH L F', 6), ('UW TH S', 6), ('AA CH T', 5), ('AA P F', 5), ('AA V Z', 5), ('AE JH', 5), ('AE N JH', 5), ('AE S P', 5), ('AE SH K', 5), ('AH L D', 5), ('AH M P F', 5), ('AO NG K', 5), ('AO R CH', 5), ('AO TH S', 5), ('AW B', 5), ('AW N T', 5), ('AW N T S', 5), ('AW R Z', 5), ('AW TH', 5), ('AW Z D', 5), ('AY F S', 5), ('AY M D', 5), ('EH M D', 5), ('EH N JH', 5), ('EH SH K', 5), ('EH TH S', 5), ('ER G', 5), ('ER V Z', 5), ('EY N T S', 5), ('EY S T S', 5), ('EY TH', 5), ('IH NG D', 5), ('IH R S', 5), ('IY B Z', 5), ('IY L K', 5), ('IY V D', 5), ('OW L P', 5), ('OW P K', 5), ('OW Z D', 5), ('OY CH', 5), ('OY S T', 5), ('UH D Z', 5), ('UH R D', 5), ('UH T S', 5), ('UW F S', 5), ('UW F T', 5), ('UW N D', 5), ('AA B D', 4), ('AA N JH', 4), ('AA R B Z', 4), ('AA R CH T', 4), ('AA R K T', 4), ('AA R M D', 4), ('AA R N T', 4), ('AA R S T', 4), ('AA R V Z', 4), ('AE L P', 4), ('AE L T S', 4), ('AE N S K', 4), ('AE S K T', 4), ('AE S P T', 4), ('AH L P', 4), ('AH N D Z', 4), ('AH N S', 4), ('AH NG K T', 4), ('AO G D', 4), ('AO N S', 4), ('AO NG D', 4), ('AO R B', 4), ('AO R L', 4), ('AO R M D', 4), ('AO R N D', 4), ('AO R P S', 4), ('AW L D', 4), ('AW L K S', 4), ('AW M', 4), ('AY TH', 4), ('EH CH T', 4), ('EH G D', 4), ('EH K T S', 4), ('EH L F S', 4), ('EH L P S', 4), ('EH L SH', 4), ('EH L TH', 4), ('EH L V', 4), ('EH L V Z', 4), ('EH N S K', 4), ('EH NG K S', 4), ('EY G Z', 4), ('IH JH', 4), ('IH L CH', 4), ('IH L D Z', 4), ('IH N JH D', 4), ('IH S K T', 4), ('IH S P', 4), ('IH SH T', 4), ('IY DH', 4), ('IY F T', 4), ('IY G Z', 4), ('IY TH S', 4), ('OW M D', 4), ('OW N T', 4), ('OY K', 4), ('OY N D', 4), ('OY N T', 4), ('OY R', 4), ('UH K T', 4), ('UH T', 4), ('UW B Z', 4), ('UW L K', 4), ('UW R Z', 4), ('UW V Z', 4), ('AA G D', 3), ('AA L F', 3), ('AA NG K S', 3), ('AA R N D', 3), ('AE L F', 3), ('AE N S T', 3), ('AE P F', 3), ('AE S P S', 3), ('AE V', 3), ('AE V Z', 3), ('AH D T', 3), ('AH L CH', 3), ('AH L F', 3), ('AH L K S', 3), ('AH M F', 3), ('AH N JH D', 3), ('AH N S T', 3), ('AH S K S', 3), ('AH V D', 3), ('AO D Z', 3), ('AO F T S', 3), ('AO L B', 3), ('AO L D Z', 3), ('AO L K', 3), ('AO N CH', 3), ('AO R L Z', 3), ('AO R TH S', 3), ('AW CH T', 3), ('AW K S', 3), ('AW N S T', 3), ('AY G', 3), ('AY V D', 3), ('AY Z D', 3), ('EH L B', 3), ('EH L D Z', 3), ('EH L K S', 3), ('EH M P S', 3), ('EH M P T', 3), ('EH N CH T', 3), ('EH N TH', 3), ('EH R K', 3), ('EH R N', 3), ('EH R N Z', 3), ('EH R T S', 3), ('ER CH T', 3), ('ER F S', 3), ('ER G Z', 3), ('ER V D', 3), ('IH B D', 3), ('IH G D', 3), ('IH L N', 3), ('IH M F', 3), ('IH N S T', 3), ('IH NG K T', 3), ('IH TH S', 3), ('IH V Z', 3), ('IH Z D', 3), ('IY D T', 3), ('IY HH', 3), ('IY N T S', 3), ('IY NG K', 3), ('IY R K S', 3), ('IY S K', 3), ('OW B D', 3), ('OW CH T', 3), ('OW F S', 3), ('OW L F S', 3), ('OW NG K', 3), ('OW S K', 3), ('OW T Z', 3), ('OW TH S', 3), ('OY N T S', 3), ('UH NG', 3), ('UW DH', 3), ('UW DH D', 3), ('UW DH Z', 3), ('UW N T S', 3), ('UW W', 3), ('AA D T', 2), ('AA JH D', 2), ('AA L F S', 2), ('AA L K', 2), ('AA M D', 2), ('AA M P S', 2), ('AA M P T', 2), ('AA N CH', 2), ('AA N K', 2), ('AA R B D', 2), ('AA R JH D', 2), ('AA R P F', 2), ('AA R TH S', 2), ('AA R V D', 2), ('AA S P S', 2), ('AA SH T', 2), ('AA TH S', 2), ('AA Z D', 2), ('AA ZH', 2), ('AE B T', 2), ('AE D S', 2), ('AE D T', 2), ('AE L F S', 2), ('AE L K', 2), ('AE L P S', 2), ('AE M P F', 2), ('AE N CH T', 2), ('AE N DH', 2), ('AE N F', 2), ('AE N F T', 2), ('AE NG D', 2), ('AE T S K', 2), ('AE TH S', 2), ('AH CH T', 2), ('AH L F S', 2), ('AH L K T', 2), ('AH L M', 2), ('AH L P T', 2), ('AH L S T', 2), ('AH N SH', 2), ('AH N TH S', 2), ('AO D T', 2), ('AO JH', 2), ('AO L S', 2), ('AO NG G', 2), ('AO P T', 2), ('AO R B Z', 2), ('AO R CH T', 2), ('AO R F T', 2), ('AO R K T', 2), ('AO S K', 2), ('AO S T S', 2), ('AO V', 2), ('AO Z D', 2), ('AW F', 2), ('AW JH', 2), ('AW L K', 2), ('AW N JH', 2), ('AW NG', 2), ('AW TH S', 2), ('AY JH', 2), ('AY NG K', 2), ('AY R D', 2), ('EH D T', 2), ('EH F T S', 2), ('EH K S T S', 2), ('EH L CH T', 2), ('EH L TH S', 2), ('EH L V D', 2), ('EH M P F', 2), ('EH M P K', 2), ('EH M P T S', 2), ('EH M T', 2), ('EH N F', 2), ('EH N S T', 2), ('EH NG K TH', 2), ('EH NG K TH S', 2), ('EH NG TH', 2), ('EH NG TH S', 2), ('EH R T', 2), ('EH S P', 2), ('EH SH T', 2), ('ER L D Z', 2), ('ER M D', 2), ('ER P S', 2), ('EY B Z', 2), ('EY DH Z', 2), ('EY F S', 2), ('EY L K', 2), ('EY N JH D', 2), ('EY NG', 2), ('EY NG K', 2), ('EY P K', 2), ('EY R Z', 2), ('EY T TH', 2), ('IH CH K', 2), ('IH DH', 2), ('IH JH D', 2), ('IH K T S', 2), ('IH L B', 2), ('IH L G', 2), ('IH L K T', 2), ('IH L N Z', 2), ('IH L TH', 2), ('IH M P F', 2), ('IH M P T', 2), ('IH N TH', 2), ('IH NG G', 2), ('IH P F', 2), ('IH P K', 2), ('IH P T S', 2), ('IH R D Z', 2), ('IH R K', 2), ('IH R T S', 2), ('IH SH K', 2), ('IH T SH', 2), ('IH T Z', 2), ('IH T Z SH', 2), ('IY DH D', 2), ('IY DH Z', 2), ('IY R S', 2), ('IY T Z', 2), ('OW DH D', 2), ('OW DH Z', 2), ('OW F T', 2), ('OW K S T', 2), ('OW L B', 2), ('OW L CH', 2), ('OW L M', 2), ('OW L S', 2), ('OW L S T', 2), ('OW N D Z', 2), ('OY G', 2), ('OY S T S', 2), ('OY T S', 2), ('UH', 2), ('UH CH', 2), ('UH F', 2), ('UH L D', 2), ('UH L F S', 2), ('UH SH T', 2), ('UW HH', 2), ('UW K T', 2), ('UW N S', 2), ('UW NG K', 2), ('UW V D', 2), ('UW ZH', 2), ('AA DH', 1), ('AA DH D', 1), ('AA F K', 1), ('AA F S', 1), ('AA G T', 1), ('AA K S T', 1), ('AA L D', 1), ('AA L F T', 1), ('AA L M D', 1), ('AA L T', 1), ('AA L T S', 1), ('AA L V', 1), ('AA L V D', 1), ('AA L V Z', 1), ('AA M K', 1), ('AA M P T S', 1), ('AA N K S', 1), ('AA N TH S', 1), ('AA N Z D', 1), ('AA NG G', 1), ('AA NG K S T', 1), ('AA NG Z', 1), ('AA P S T', 1), ('AA P T S', 1), ('AA R DH', 1), ('AA R F S', 1), ('AA R L D', 1), ('AA R L T', 1), ('AA R N S T', 1), ('AA R N T S', 1), ('AA R P S T', 1), ('AA R P T', 1), ('AA R S K', 1), ('AA R SH CH', 1), ('AA R SH K', 1), ('AA R T S K', 1), ('AA R T S T', 1), ('AA R Z T', 1), ('AA S K', 1), ('AA S K S', 1), ('AA S P', 1), ('AA S T S', 1), ('AA T CH', 1), ('AA T CH T', 1), ('AA T Z', 1), ('AA Z D Z', 1), ('AE B S T', 1), ('AE B T S', 1), ('AE CH S', 1), ('AE DH Z', 1), ('AE G T', 1), ('AE L B', 1), ('AE L CH', 1), ('AE L K S', 1), ('AE L P T', 1), ('AE L T', 1), ('AE L TH', 1), ('AE L V', 1), ('AE L V Z', 1), ('AE M P Z', 1), ('AE N K', 1), ('AE N K S', 1), ('AE P S T', 1), ('AE R Z', 1), ('AE T Z', 1), ('AE TH K', 1), ('AE V D', 1), ('AE Z D', 1), ('AH B K', 1), ('AH DH', 1), ('AH F T S', 1), ('AH K T S', 1), ('AH L B', 1), ('AH L B Z', 1), ('AH L CH T', 1), ('AH L JH', 1), ('AH L JH D', 1), ('AH L P S', 1), ('AH L P T S', 1), ('AH L SH', 1), ('AH L T Z', 1), ('AH N D T', 1), ('AH N K', 1), ('AH N T Z', 1), ('AH N TH', 1), ('AH NG D', 1), ('AH P T', 1), ('AH S P', 1), ('AH SH K', 1), ('AH T Z', 1), ('AH TH', 1), ('AH Z D', 1), ('AO B D', 1), ('AO B Z', 1), ('AO CH T', 1), ('AO DH', 1), ('AO L CH', 1), ('AO L F', 1), ('AO L N', 1), ('AO L P', 1), ('AO L SH', 1), ('AO L TH', 1), ('AO M P', 1), ('AO M P S', 1), ('AO M P T', 1), ('AO N CH T', 1), ('AO N D T', 1), ('AO NG G Z', 1), ('AO NG K S', 1), ('AO P F', 1), ('AO R D T S', 1), ('AO R G Z', 1), ('AO R HH', 1), ('AO R JH D', 1), ('AO R M TH', 1), ('AO R P T', 1), ('AO R S K', 1), ('AO R SH T', 1), ('AO R V Z', 1), ('AO S K S', 1), ('AO SH T', 1), ('AO T N', 1), ('AW B Z', 1), ('AW D T', 1), ('AW DH D', 1), ('AW DH Z', 1), ('AW G', 1), ('AW JH D', 1), ('AW L F', 1), ('AW N JH D', 1), ('AW NG G S T', 1), ('AW S T S', 1), ('AW W', 1), ('AW Z T S', 1), ('AY B D', 1), ('AY D T', 1), ('AY F T', 1), ('AY L S T', 1), ('AY L T S', 1), ('AY N SH', 1), ('AY N T', 1), ('AY N TH', 1), ('AY N TH S', 1), ('AY NG', 1), ('AY R JH', 1), ('AY R N Z', 1), ('AY S K', 1), ('AY S T S', 1), ('AY T Z', 1), ('AY TH S', 1), ('EH B D', 1), ('EH B K', 1), ('EH D TH', 1), ('EH F D', 1), ('EH F Z', 1), ('EH JH L', 1), ('EH L F T', 1), ('EH L F TH', 1), ('EH L G', 1), ('EH L JH', 1), ('EH L M K', 1), ('EH L P D', 1), ('EH L P T', 1), ('EH L R', 1), ('EH L S', 1), ('EH L S K', 1), ('EH L V TH', 1), ('EH M B K', 1), ('EH M CH', 1), ('EH M D Z', 1), ('EH M F', 1), ('EH M JH', 1), ('EH M K', 1), ('EH N F T', 1), ('EH N G', 1), ('EH N TH S', 1), ('EH N Z D', 1), ('EH N Z K', 1), ('EH NG G S T', 1), ('EH NG K T', 1), ('EH NG Z', 1), ('EH P F', 1), ('EH P TH', 1), ('EH P TH S', 1), ('EH R D Z', 1), ('EH R S', 1), ('EH R S K', 1), ('EH R S T', 1), ('EH R V', 1), ('EH S K S', 1), ('EH T Z', 1), ('EH TH K', 1), ('EH V D', 1), ('EH V Z', 1), ('EH Z M', 1), ('ER B D', 1), ('ER B S T', 1), ('ER D T S', 1), ('ER DH Z', 1), ('ER F T', 1), ('ER N S T', 1), ('ER N T S', 1), ('ER N Z D', 1), ('ER R Z', 1), ('ER T Z', 1), ('EY D T', 1), ('EY DH D', 1), ('EY F T', 1), ('EY G D', 1), ('EY HH', 1), ('EY L F', 1), ('EY L P', 1), ('EY L S', 1), ('EY L T S', 1), ('EY SH', 1), ('EY T JH', 1), ('EY T TH S', 1), ('EY TH N', 1), ('EY TH S', 1), ('EY ZH', 1), ('IH D N T', 1), ('IH D S T', 1), ('IH D T', 1), ('IH D TH', 1), ('IH D TH S', 1), ('IH F M', 1), ('IH F TH', 1), ('IH F TH S', 1), ('IH K S TH', 1), ('IH K S TH S', 1), ('IH K SH', 1), ('IH L CH T', 1), ('IH L F', 1), ('IH L M', 1), ('IH L M D', 1), ('IH L P', 1), ('IH L S', 1), ('IH M F S', 1), ('IH M K', 1), ('IH M P S T', 1), ('IH M T S', 1), ('IH N S K', 1), ('IH N SH', 1), ('IH N T Z', 1), ('IH NG G S T', 1), ('IH NG K S T', 1), ('IH NG S T', 1), ('IH R B', 1), ('IH R L', 1), ('IH R N Z', 1), ('IH R S T', 1), ('IH R SH', 1), ('IH R SH T', 1), ('IH T L', 1), ('IH T S T', 1), ('IH TH D', 1), ('IH V D', 1), ('IH Z K', 1), ('IY L B', 1), ('IY L SH', 1), ('IY M K', 1), ('IY N D Z', 1), ('IY N S T', 1), ('IY N T', 1), ('IY R D', 1), ('IY R K', 1), ('IY R S T', 1), ('IY R T', 1), ('IY SH T', 1), ('IY T JH', 1), ('IY W', 1), ('OW B K', 1), ('OW G S T', 1), ('OW G Z', 1), ('OW K S T S', 1), ('OW L K S', 1), ('OW L M Z', 1), ('OW L S K', 1), ('OW L SH', 1), ('OW N T S', 1), ('OW NG', 1), ('OW P Z', 1), ('OW SH T', 1), ('OW SH T S', 1), ('OW T CH', 1), ('OW V D', 1), ('OW Z M', 1), ('OY G T', 1), ('OY G T S', 1), ('OY JH', 1), ('OY K T', 1), ('OY M', 1), ('OY N K', 1), ('OY R Z', 1), ('OY SH', 1), ('OY Z D', 1), ('UH B SH', 1), ('UH F S', 1), ('UH F T', 1), ('UH L K', 1), ('UH L P', 1), ('UH L T', 1), ('UH L V Z', 1), ('UH N SH', 1), ('UH NG Z', 1), ('UH R K', 1), ('UH R L', 1), ('UH R S T', 1), ('UH R T', 1), ('UH R T S', 1), ('UH R TH', 1), ('UH S', 1), ('UH V Z', 1), ('UW B D', 1), ('UW B K', 1), ('UW G Z', 1), ('UW L D Z', 1), ('UW L K S', 1), ('UW M B', 1), ('UW M B Z', 1), ('UW M F', 1), ('UW N D Z', 1), ('UW N T', 1), ('UW R JH', 1), ('UW S T S', 1), ('UW SH T', 1), ('UW TH T', 1), ('AA F S K', 0), ('AA K D', 0), ('AA L D Z', 0), ('AA L S', 0), ('AA M T', 0), ('AA N S T', 0), ('AA N SH', 0), ('AA N TH', 0), ('AA R D T', 0), ('AA V S K', 0), ('AA W', 0), ('AA ZH D', 0), ('AE K D', 0), ('AE L D', 0), ('AE N SH', 0), ('AE N TH', 0), ('AE P T S', 0), ('AE Z M', 0), ('AH D TH', 0), ('AH D TH S', 0), ('AH HH', 0), ('AH L D Z', 0), ('AH L F T', 0), ('AH L G', 0), ('AH L M Z', 0), ('AH M F S', 0), ('AH M F T', 0), ('AH N D TH', 0), ('AH N D TH S', 0), ('AH N F T', 0), ('AH N T TH S', 0), ('AH N Z D', 0), ('AH NG K T S', 0), ('AH NG S T', 0), ('AH P T S', 0), ('AH R', 0), ('AH R G', 0), ('AH R Z', 0), ('AH T L', 0), ('AH T R', 0), ('AH TH S', 0), ('AO G S T', 0), ('AO G T', 0), ('AO K S T', 0), ('AO L F S', 0), ('AO L V D', 0), ('AO M Z', 0), ('AO N D Z', 0), ('AO P F S', 0), ('AO P S', 0), ('AO R B D', 0), ('AO T L', 0), ('AO V S', 0), ('AO V Z', 0), ('AW L T', 0), ('AW M Z', 0), ('AW P T', 0), ('AY HH', 0), ('AY JH D', 0), ('AY K Z', 0), ('EH HH', 0), ('EH L M D', 0), ('EH N JH D', 0), ('EH P T S', 0), ('EH R ZH', 0), ('EH S S', 0), ('EH SH T S', 0), ('EH ZH', 0), ('ER N Y', 0), ('ER P T', 0), ('ER P T S', 0), ('ER R', 0), ('ER R D Z', 0), ('ER R N', 0), ('ER TH T', 0), ('EY N S T', 0), ('EY N Y', 0), ('EY R T', 0), ('IH HH', 0), ('IH JH Z', 0), ('IH K Z', 0), ('IH L JH', 0), ('IH L S K', 0), ('IH M S', 0), ('IH N G', 0), ('IH N TH S', 0), ('IH N Y', 0), ('IH NG G Z', 0), ('IH NG K D', 0), ('IH NG K T S', 0), ('IH NG S', 0), ('IH P S T', 0), ('IH R S K', 0), ('IH S S', 0), ('IH Z M', 0), ('IY G D', 0), ('IY JH D', 0), ('IY N TH', 0), ('IY N TH S', 0), ('IY NG', 0), ('IY R D Z', 0), ('IY TH T', 0), ('IY ZH', 0), ('OW M F', 0), ('OW N S T', 0), ('OW NG Z', 0), ('OW P D', 0), ('OW ZH', 0), ('OY M Z', 0), ('OY TH', 0), ('UH G', 0), ('UH K Z', 0), ('UH M', 0), ('UH M D', 0), ('UH N', 0), ('UH N D', 0), ('UH N T S', 0), ('UH P', 0), ('UH R N', 0), ('UH R S', 0), ('UH T S K', 0), ('UH TH', 0), ('UH Z', 0), ('UW DH S', 0), ('UW JH D', 0), ('UW R G', 0), ('UW Y', 0)]\n"
     ]
    }
   ],
   "source": [
    "# sort(test_dict[1],key=lambda x : x[1], reverse=True)\n",
    "test_dict[1].sort(key = lambda x : x[1], reverse = True)\n",
    "print(test_dict[1])"
   ]
  },
  {
   "cell_type": "code",
   "execution_count": 73,
   "id": "0d66d6ab",
   "metadata": {},
   "outputs": [
    {
     "name": "stdout",
     "output_type": "stream",
     "text": [
      "[('EH K S T R AH T EH R AH T AO R IY AE L AH T IY', 1), ('IY IH N S T IH T UW SH AH N AH L AH Z EY SH AH N', 1), ('AH L IH S T IH K EH K S P IY AE L AH D OW SH AH S', 0), ('AH S T AE B L IH SH M AH N T EH R IY AH N IH Z AH M', 0)]\n"
     ]
    }
   ],
   "source": [
    "# let's sort those lists!\n",
    "\n",
    "for key in test_dict:\n",
    "    test_dict[key].sort(key = lambda x:x[1], reverse=True)\n",
    "\n",
    "print(test_dict[9])"
   ]
  },
  {
   "cell_type": "code",
   "execution_count": 83,
   "id": "d95cd179",
   "metadata": {},
   "outputs": [
    {
     "name": "stdout",
     "output_type": "stream",
     "text": [
      "[('AH M EH R IH K AH', 11), ('IH K AA N AH M IH S', 6), ('IH N D AH S T R IY AH', 6), ('AA P ER EY SH AH N', 5), ('AE L AH B AE M AH', 5), ('AE N JH AH L IY N OW', 5), ('AH K AE L AH S T ER', 5), ('AO R P ER EY SH AH N Z', 5), ('AY B IH R IY AH', 5), ('EH DH ER IH NG T AH N', 5)]\n"
     ]
    }
   ],
   "source": [
    "limit = 10\n",
    "top_ten_exact_dict = {}\n",
    "for key in test_dict:\n",
    "    top_ten_exact_dict[key]=[]\n",
    "    if len(test_dict[key]) >= 10:\n",
    "        for num in range(limit):\n",
    "            top_ten_exact_dict[key].append(test_dict[key][num])\n",
    "    else:\n",
    "        for num in range(len(test_dict[key])):\n",
    "            top_ten_exact_dict[key].append(test_dict[key][num])\n",
    "            \n",
    "print(top_ten_exact_dict[4])\n",
    "        "
   ]
  },
  {
   "cell_type": "code",
   "execution_count": 88,
   "id": "f8c20881",
   "metadata": {},
   "outputs": [],
   "source": [
    "# let's make a dataframe from the results dict\n",
    "\n",
    "# exact_top_ten_df = pd.concat({k:pd.Series(v) for k, v in top_ten_exact_dict.items()}).unstack().astype(float).sort_index()\n",
    "# exact_top_ten_df.columns = 'col1  col2  col3'.split()\n",
    "\n",
    "L = [(k, *t) for k, v in top_ten_exact_dict.items() for t in v]\n",
    "exact_top_ten_df = pd.DataFrame(L, columns=['Syllable Count','Rhyme Pattern','Occurrences'])"
   ]
  },
  {
   "cell_type": "code",
   "execution_count": 90,
   "id": "61c6e842",
   "metadata": {},
   "outputs": [
    {
     "data": {
      "text/html": [
       "<div>\n",
       "<style scoped>\n",
       "    .dataframe tbody tr th:only-of-type {\n",
       "        vertical-align: middle;\n",
       "    }\n",
       "\n",
       "    .dataframe tbody tr th {\n",
       "        vertical-align: top;\n",
       "    }\n",
       "\n",
       "    .dataframe thead th {\n",
       "        text-align: right;\n",
       "    }\n",
       "</style>\n",
       "<table border=\"1\" class=\"dataframe\">\n",
       "  <thead>\n",
       "    <tr style=\"text-align: right;\">\n",
       "      <th></th>\n",
       "      <th>Syllable Count</th>\n",
       "      <th>Rhyme Pattern</th>\n",
       "      <th>Occurrences</th>\n",
       "    </tr>\n",
       "  </thead>\n",
       "  <tbody>\n",
       "    <tr>\n",
       "      <th>0</th>\n",
       "      <td>1</td>\n",
       "      <td>EY</td>\n",
       "      <td>198</td>\n",
       "    </tr>\n",
       "    <tr>\n",
       "      <th>1</th>\n",
       "      <td>1</td>\n",
       "      <td>OW</td>\n",
       "      <td>198</td>\n",
       "    </tr>\n",
       "    <tr>\n",
       "      <th>2</th>\n",
       "      <td>1</td>\n",
       "      <td>UW</td>\n",
       "      <td>198</td>\n",
       "    </tr>\n",
       "    <tr>\n",
       "      <th>3</th>\n",
       "      <td>1</td>\n",
       "      <td>IY</td>\n",
       "      <td>178</td>\n",
       "    </tr>\n",
       "    <tr>\n",
       "      <th>4</th>\n",
       "      <td>1</td>\n",
       "      <td>IY Z</td>\n",
       "      <td>156</td>\n",
       "    </tr>\n",
       "    <tr>\n",
       "      <th>...</th>\n",
       "      <td>...</td>\n",
       "      <td>...</td>\n",
       "      <td>...</td>\n",
       "    </tr>\n",
       "    <tr>\n",
       "      <th>82</th>\n",
       "      <td>9</td>\n",
       "      <td>AH L IH S T IH K EH K S P IY AE L AH D OW SH AH S</td>\n",
       "      <td>0</td>\n",
       "    </tr>\n",
       "    <tr>\n",
       "      <th>83</th>\n",
       "      <td>9</td>\n",
       "      <td>AH S T AE B L IH SH M AH N T EH R IY AH N IH Z...</td>\n",
       "      <td>0</td>\n",
       "    </tr>\n",
       "    <tr>\n",
       "      <th>84</th>\n",
       "      <td>12</td>\n",
       "      <td>AE N T AY D IH S AH S T AE B L IH SH M AH N T ...</td>\n",
       "      <td>1</td>\n",
       "    </tr>\n",
       "    <tr>\n",
       "      <th>85</th>\n",
       "      <td>12</td>\n",
       "      <td>AE L AH F R AE JH AH L IH S T IH K EH K S P IY...</td>\n",
       "      <td>0</td>\n",
       "    </tr>\n",
       "    <tr>\n",
       "      <th>86</th>\n",
       "      <td>14</td>\n",
       "      <td>UW P ER K AE L AH F R AE JH AH L IH S T IH K E...</td>\n",
       "      <td>1</td>\n",
       "    </tr>\n",
       "  </tbody>\n",
       "</table>\n",
       "<p>87 rows × 3 columns</p>\n",
       "</div>"
      ],
      "text/plain": [
       "    Syllable Count                                      Rhyme Pattern  \\\n",
       "0                1                                                 EY   \n",
       "1                1                                                 OW   \n",
       "2                1                                                 UW   \n",
       "3                1                                                 IY   \n",
       "4                1                                               IY Z   \n",
       "..             ...                                                ...   \n",
       "82               9  AH L IH S T IH K EH K S P IY AE L AH D OW SH AH S   \n",
       "83               9  AH S T AE B L IH SH M AH N T EH R IY AH N IH Z...   \n",
       "84              12  AE N T AY D IH S AH S T AE B L IH SH M AH N T ...   \n",
       "85              12  AE L AH F R AE JH AH L IH S T IH K EH K S P IY...   \n",
       "86              14  UW P ER K AE L AH F R AE JH AH L IH S T IH K E...   \n",
       "\n",
       "    Occurrences  \n",
       "0           198  \n",
       "1           198  \n",
       "2           198  \n",
       "3           178  \n",
       "4           156  \n",
       "..          ...  \n",
       "82            0  \n",
       "83            0  \n",
       "84            1  \n",
       "85            0  \n",
       "86            1  \n",
       "\n",
       "[87 rows x 3 columns]"
      ]
     },
     "execution_count": 90,
     "metadata": {},
     "output_type": "execute_result"
    }
   ],
   "source": [
    "exact_top_ten_df"
   ]
  },
  {
   "cell_type": "code",
   "execution_count": 91,
   "id": "9800bd93",
   "metadata": {},
   "outputs": [],
   "source": [
    "# we know the occurrences with 0s & 1s are either not found or matching themselves. so let's drop those rows.\n",
    "\n",
    "exact_top_ten_df = exact_top_ten_df[exact_top_ten_df['Occurrences'] > 1]"
   ]
  },
  {
   "cell_type": "code",
   "execution_count": 94,
   "id": "bc6e8262",
   "metadata": {},
   "outputs": [
    {
     "data": {
      "text/html": [
       "<div>\n",
       "<style scoped>\n",
       "    .dataframe tbody tr th:only-of-type {\n",
       "        vertical-align: middle;\n",
       "    }\n",
       "\n",
       "    .dataframe tbody tr th {\n",
       "        vertical-align: top;\n",
       "    }\n",
       "\n",
       "    .dataframe thead th {\n",
       "        text-align: right;\n",
       "    }\n",
       "</style>\n",
       "<table border=\"1\" class=\"dataframe\">\n",
       "  <thead>\n",
       "    <tr style=\"text-align: right;\">\n",
       "      <th></th>\n",
       "      <th>Syllable Count</th>\n",
       "      <th>Rhyme Pattern</th>\n",
       "      <th>Occurrences</th>\n",
       "    </tr>\n",
       "  </thead>\n",
       "  <tbody>\n",
       "    <tr>\n",
       "      <th>65</th>\n",
       "      <td>7</td>\n",
       "      <td>AE N AH S TH IY Z IY AA L AH JH IY</td>\n",
       "      <td>2</td>\n",
       "    </tr>\n",
       "    <tr>\n",
       "      <th>66</th>\n",
       "      <td>7</td>\n",
       "      <td>EH L AH K AH M Y UW N AH K EY SH AH N Z</td>\n",
       "      <td>2</td>\n",
       "    </tr>\n",
       "    <tr>\n",
       "      <th>67</th>\n",
       "      <td>7</td>\n",
       "      <td>EH P AH D IY M IY AA L AH JH IH S T</td>\n",
       "      <td>2</td>\n",
       "    </tr>\n",
       "    <tr>\n",
       "      <th>68</th>\n",
       "      <td>7</td>\n",
       "      <td>EY D IY OW AE K T IH V AH T IY</td>\n",
       "      <td>2</td>\n",
       "    </tr>\n",
       "    <tr>\n",
       "      <th>69</th>\n",
       "      <td>7</td>\n",
       "      <td>IH L EH K T R OW B AY AA L AH JH IY</td>\n",
       "      <td>2</td>\n",
       "    </tr>\n",
       "  </tbody>\n",
       "</table>\n",
       "</div>"
      ],
      "text/plain": [
       "    Syllable Count                            Rhyme Pattern  Occurrences\n",
       "65               7       AE N AH S TH IY Z IY AA L AH JH IY            2\n",
       "66               7  EH L AH K AH M Y UW N AH K EY SH AH N Z            2\n",
       "67               7      EH P AH D IY M IY AA L AH JH IH S T            2\n",
       "68               7           EY D IY OW AE K T IH V AH T IY            2\n",
       "69               7      IH L EH K T R OW B AY AA L AH JH IY            2"
      ]
     },
     "execution_count": 94,
     "metadata": {},
     "output_type": "execute_result"
    }
   ],
   "source": [
    "exact_top_ten_df.tail()\n",
    "# exact_top_ten_df.head()"
   ]
  },
  {
   "cell_type": "markdown",
   "id": "3af74fe7",
   "metadata": {},
   "source": [
    "This dataframe is still not the most accurate. As we saw above, 'ANAESTHESIOLOGIST' has multiple spellings. This does not mean the word is easy to match with. For the longer syllable words I may check manually to see when a word is matching itself / pluralized self.\n",
    "\n",
    "Let's persist some of this work to avoid having to re-run code during the next exploration."
   ]
  },
  {
   "cell_type": "code",
   "execution_count": 99,
   "id": "ed470dd7",
   "metadata": {},
   "outputs": [],
   "source": [
    "import pickle\n",
    "\n",
    "with open(r\"Exploration/exactTopTen.pickle\", 'wb') as f:\n",
    "    pickle.dump(exact_top_ten_df, f)"
   ]
  },
  {
   "cell_type": "code",
   "execution_count": 100,
   "id": "19d5e4bc",
   "metadata": {},
   "outputs": [
    {
     "data": {
      "text/html": [
       "<div>\n",
       "<style scoped>\n",
       "    .dataframe tbody tr th:only-of-type {\n",
       "        vertical-align: middle;\n",
       "    }\n",
       "\n",
       "    .dataframe tbody tr th {\n",
       "        vertical-align: top;\n",
       "    }\n",
       "\n",
       "    .dataframe thead th {\n",
       "        text-align: right;\n",
       "    }\n",
       "</style>\n",
       "<table border=\"1\" class=\"dataframe\">\n",
       "  <thead>\n",
       "    <tr style=\"text-align: right;\">\n",
       "      <th></th>\n",
       "      <th>Syllable Count</th>\n",
       "      <th>Rhyme Pattern</th>\n",
       "      <th>Occurrences</th>\n",
       "    </tr>\n",
       "  </thead>\n",
       "  <tbody>\n",
       "    <tr>\n",
       "      <th>0</th>\n",
       "      <td>1</td>\n",
       "      <td>EY</td>\n",
       "      <td>198</td>\n",
       "    </tr>\n",
       "    <tr>\n",
       "      <th>1</th>\n",
       "      <td>1</td>\n",
       "      <td>OW</td>\n",
       "      <td>198</td>\n",
       "    </tr>\n",
       "    <tr>\n",
       "      <th>2</th>\n",
       "      <td>1</td>\n",
       "      <td>UW</td>\n",
       "      <td>198</td>\n",
       "    </tr>\n",
       "    <tr>\n",
       "      <th>3</th>\n",
       "      <td>1</td>\n",
       "      <td>IY</td>\n",
       "      <td>178</td>\n",
       "    </tr>\n",
       "    <tr>\n",
       "      <th>4</th>\n",
       "      <td>1</td>\n",
       "      <td>IY Z</td>\n",
       "      <td>156</td>\n",
       "    </tr>\n",
       "    <tr>\n",
       "      <th>...</th>\n",
       "      <td>...</td>\n",
       "      <td>...</td>\n",
       "      <td>...</td>\n",
       "    </tr>\n",
       "    <tr>\n",
       "      <th>65</th>\n",
       "      <td>7</td>\n",
       "      <td>AE N AH S TH IY Z IY AA L AH JH IY</td>\n",
       "      <td>2</td>\n",
       "    </tr>\n",
       "    <tr>\n",
       "      <th>66</th>\n",
       "      <td>7</td>\n",
       "      <td>EH L AH K AH M Y UW N AH K EY SH AH N Z</td>\n",
       "      <td>2</td>\n",
       "    </tr>\n",
       "    <tr>\n",
       "      <th>67</th>\n",
       "      <td>7</td>\n",
       "      <td>EH P AH D IY M IY AA L AH JH IH S T</td>\n",
       "      <td>2</td>\n",
       "    </tr>\n",
       "    <tr>\n",
       "      <th>68</th>\n",
       "      <td>7</td>\n",
       "      <td>EY D IY OW AE K T IH V AH T IY</td>\n",
       "      <td>2</td>\n",
       "    </tr>\n",
       "    <tr>\n",
       "      <th>69</th>\n",
       "      <td>7</td>\n",
       "      <td>IH L EH K T R OW B AY AA L AH JH IY</td>\n",
       "      <td>2</td>\n",
       "    </tr>\n",
       "  </tbody>\n",
       "</table>\n",
       "<p>70 rows × 3 columns</p>\n",
       "</div>"
      ],
      "text/plain": [
       "    Syllable Count                            Rhyme Pattern  Occurrences\n",
       "0                1                                       EY          198\n",
       "1                1                                       OW          198\n",
       "2                1                                       UW          198\n",
       "3                1                                       IY          178\n",
       "4                1                                     IY Z          156\n",
       "..             ...                                      ...          ...\n",
       "65               7       AE N AH S TH IY Z IY AA L AH JH IY            2\n",
       "66               7  EH L AH K AH M Y UW N AH K EY SH AH N Z            2\n",
       "67               7      EH P AH D IY M IY AA L AH JH IH S T            2\n",
       "68               7           EY D IY OW AE K T IH V AH T IY            2\n",
       "69               7      IH L EH K T R OW B AY AA L AH JH IY            2\n",
       "\n",
       "[70 rows x 3 columns]"
      ]
     },
     "execution_count": 100,
     "metadata": {},
     "output_type": "execute_result"
    }
   ],
   "source": [
    "with open(r\"Exploration/exactTopTen.pickle\", \"rb\") as f:\n",
    "    test_pickle = pickle.load(f)\n",
    "test_pickle"
   ]
  },
  {
   "cell_type": "code",
   "execution_count": null,
   "id": "c2a38247",
   "metadata": {},
   "outputs": [],
   "source": []
  }
 ],
 "metadata": {
  "kernelspec": {
   "display_name": "Python 3 (ipykernel)",
   "language": "python",
   "name": "python3"
  },
  "language_info": {
   "codemirror_mode": {
    "name": "ipython",
    "version": 3
   },
   "file_extension": ".py",
   "mimetype": "text/x-python",
   "name": "python",
   "nbconvert_exporter": "python",
   "pygments_lexer": "ipython3",
   "version": "3.10.6"
  }
 },
 "nbformat": 4,
 "nbformat_minor": 5
}
